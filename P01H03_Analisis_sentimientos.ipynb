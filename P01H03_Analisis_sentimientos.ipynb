{
 "cells": [
  {
   "cell_type": "markdown",
   "id": "22c0fc3b-da71-4626-b20a-6b84b962de91",
   "metadata": {},
   "source": [
    "Prueba 1. Hito 3. \n",
    "Autores: Alejandro Chau y Cristóbal Novoa"
   ]
  },
  {
   "cell_type": "markdown",
   "id": "65bd757f-a0d4-473b-ba60-0d017f0144c3",
   "metadata": {},
   "source": [
    "# Prueba 1: Análisis de Sentimientos de Twitter\n",
    "\n",
    "● Para realizar esta prueba debes haber estudiado previamente todo el material\n",
    "disponibilizado correspondiente al módulo.\n",
    "● Una vez terminada la prueba, comprime la carpeta que contiene el desarrollo de los\n",
    "requerimientos solicitados y sube el .zip en el LMS.\n",
    "● Puntaje total: 10 puntos.\n",
    "● Desarrollo prueba:\n",
    "○ La prueba se debe desarrollar de manera Individual.\n",
    "○ Para la realización de la prueba necesitarás apoyarte del archivo Apoyo\n",
    "Prueba1.zip.\n",
    "\n",
    "Contexto\n",
    "\n",
    "A continuación se presenta un problema clásico en el análisis de texto: Extraer la polaridad\n",
    "de sentimiento asociado a un texto.\n",
    "Para esto, utilizaremos una base de datos provenientes de CrowdFlower que se entrega\n",
    "como archivo adjunto para esta prueba bajo el nombre de training_tweets.csv .\n",
    "Para descargar los datos puede ejecutar el siguiente código:"
   ]
  },
  {
   "cell_type": "markdown",
   "id": "92056311-23dc-46df-814f-3d9501f01b34",
   "metadata": {},
   "source": [
    "`wget`\n",
    "`https://www.crowdflower.com/wp-content/uploads/2016/07/text_emotion.csv`\n"
   ]
  },
  {
   "cell_type": "markdown",
   "id": "4ef119f6-015e-45b8-971f-5c6847174e32",
   "metadata": {},
   "source": [
    "El objetivo general de esta prueba es alcanzar el mejor desempeño posible para clasificar si\n",
    "un tweet tiene una polaridad positiva o negativa en cuanto al sentimiento que expresa.\n",
    "Para medir el desempeño, se evaluará con un conjunto de datos del cuál no tendrán acceso.\n",
    "De esta manera evitaremos que los modelos aprendan información sobre el conjunto de\n",
    "validación."
   ]
  },
  {
   "cell_type": "markdown",
   "id": "25293370-02ae-45a3-b7a1-2ad282e25b45",
   "metadata": {},
   "source": [
    "# Objetivos\n",
    "\n",
    "Para alcanzar el objetivo general, su trabajo se puede desagregar en los siguientes puntos:\n",
    "\n",
    "* 1. Generar un análisis exploratorio sobre los datos contenidos en el DataFrame,\n",
    "considerando palabras más comunes y distribución de las clases en el vector\n",
    "objetivo.\n",
    "\n",
    "* 2. Preprocesamiento de Texto:\n",
    "● Para trabajar adecuadamente con texto, debemos preprocesar y posteriormente\n",
    "representar cada oración como un conjunto de características.\n",
    "● Para preprocesar los tweets, debemos transformarlos a lower case. Un problema\n",
    "recurrente en el análisis de texto es la alta ocurrencia de palabras comunes. Se\n",
    "recomienda eliminarlas mediante la declaración de stopwords. Para generar la\n",
    "exclusión de stopwords, podemos utilizar la librería nltk (Natural Language ToolKit)\n",
    "y descargar los stopwords con la siguiente instrucción."
   ]
  },
  {
   "cell_type": "markdown",
   "id": "64714f0c-cb3d-4cfc-9fa7-7c3d72012e52",
   "metadata": {},
   "source": [
    "`import nltk`\n",
    "`nltk.download( 'stopwords' )`"
   ]
  },
  {
   "cell_type": "markdown",
   "id": "51d6331d-0614-4e97-b095-53678e83ce97",
   "metadata": {},
   "source": [
    "* ● Puede refinar los atributos a capturar mediante el proceso de lemantización (la\n",
    "reducción de variadas palabras con un tronco léxico común; ejemplo: Organización,\n",
    "Organiza, y Organizado presentan organi_ como tronco léxico en común) o\n",
    "Stemming (la reducción de una palabra a una expresión generalizable). Cabe\n",
    "destacar que ésta última carece de análisis morfológico del lenguaje.\n",
    "* ● Posterior a la refinación y preprocesamiento de las palabras, podemos representar\n",
    "cada oración en una matriz (o corpus) que permitirá reflejar la cantidad de\n",
    "ocurrencias de Wi palabra en un registro. Para ello, pueden hacer uso de las librerías\n",
    "de preprocesamiento sklearn.feature_extraction.text.CountVectorizer o\n",
    "sklearn.feature_extraction.text.TfidfVectorizer . De esta manera,\n",
    "tendremos un conjunto de características es mediante la frecuencia de ocurrencia de\n",
    "una palabra o término en el texto."
   ]
  },
  {
   "cell_type": "markdown",
   "id": "7fbc31a7-4030-4ba7-a16c-8d4e067a29dc",
   "metadata": {},
   "source": [
    "* 3. Preparación del vector objetivo y las matrices de entrenamiento y validación:\n",
    "    ● Nos interesa trabajar con dos tipos de emociones: positivas o negativas. Para ello\n",
    "    deberá generar la recodificación de cada una de las clases en una de las dos\n",
    "    emociones:"
   ]
  },
  {
   "cell_type": "markdown",
   "id": "8a06b135-02e9-457b-9d14-f3ca6eabf75a",
   "metadata": {},
   "source": [
    "|Original | Recodificación|\n",
    "|---|---|\n",
    "|'worry' | Negativa|\n",
    "|'happiness' | Positiva|\n",
    "|'sadness' | Negativa|\n",
    "|'love' | Positiva|\n",
    "|'surprise' | Positiva|\n",
    "|'fun' | Positiva |\n",
    "|'relief' | Positiva|\n",
    "|'hate' | Negativa|\n",
    "|'empty' | Negativa|\n",
    "|'enthusiasm' | Positiva|\n",
    "|'boredom' | Negativa|\n",
    "|'anger' | Negativa|"
   ]
  },
  {
   "cell_type": "markdown",
   "id": "1f076947-d0cc-4ea8-869b-64eab981d8e2",
   "metadata": {},
   "source": [
    "* Si el tweet está asignado como neutral, clasifíquelo aleatoriamente entre positivo o negativo."
   ]
  },
  {
   "cell_type": "markdown",
   "id": "990e3f97-6a8b-4f53-9450-0bf05874e914",
   "metadata": {},
   "source": [
    "* 4. Entrenamiento de modelos:\n",
    "    ○ En base a los modelos vistos en clase, implemente por lo menos 5. Para cada\n",
    "    uno de ellos justifique la elección de hiper parámetros. Si implementa\n",
    "    búsqueda de grilla para cada uno de ellos, defina el rango de valores a tomar\n",
    "    en cada hiper parámetro.\n",
    "    ○ Reporte el desempeño de cada modelo en las muestras de entrenamiento y\n",
    "    validación. Comente sobre la capacidad de generalización de cada uno de\n",
    "    ellos haciendo uso de los conceptos vistos en el curso."
   ]
  },
  {
   "cell_type": "markdown",
   "id": "a7e752e6-0a28-4cf6-9164-4e63f2c101e8",
   "metadata": {},
   "source": [
    "* 5. Seleccione los 2 mejores modelos, serialicelos y envíalos a evaluación. Recuerde que\n",
    "    el modelo serializado debe ser posterior al fit , para poder ejecutar predict en los\n",
    "    nuevos datos. "
   ]
  },
  {
   "cell_type": "markdown",
   "id": "4ee7efb9-b389-48ba-91d2-580a8772de77",
   "metadata": {},
   "source": [
    "# Evaluación\n",
    "\n",
    "La siguiente rúbrica detalla los elementos que se evaluarán en el entregable final (Hito 3) de\n",
    "la prueba, es decir, una vez que su trabajo esté completo:\n",
    "* ● Notebook (9 Puntos) : El notebook debe ser un reporte con la estrategia analítica, explicando los siguientes puntos:\n",
    "* ○ La definición de los requerimientos, la definición del vector objetivo, la definición de las métricas a utilizar. (1 Puntos)\n",
    "* ○ Un análisis exploratorio (univariado y gráfico). Como mínimo, debe analizar el comportamiento del vector objetivo antes del preprocesamiento y posterior al procesamiento. (3 Puntos)\n",
    "* ○ La estrategia de preprocesamiento/feature engineering. (3 Puntos)\n",
    "* ○ La elección de los algoritmos a implementar, así como sus hiper parámetros.\n",
    "* Un reporte sobre qué modelos se seleccionarán. (2 Puntos)\n",
    "* ● Modelos serializados (1 Puntos) :\n",
    "* ○ Los modelos deben estar serializados con la siguiente nomenclatura: nombre_grupo-modelo -1 y nombre_grupo-modelo -2 .\n",
    "* La evaluación de los modelos serializados se realizará en función al desempeño predictivo del modelo en un conjunto de datos externos. La primera instancia es evaluar los dos modelos enviados a competencia por el grupo, preservando el mejor modelo para la competencia con los otros grupos. El segundo paso es rankear según el desempeño entre grupos. El alumno debe obtener un mínimo de 7 puntos para aprobar."
   ]
  },
  {
   "cell_type": "markdown",
   "id": "5abc6327-3791-428d-8d5d-09d4b541faf9",
   "metadata": {},
   "source": [
    "Descripción\n",
    "● El desarrollo del hito se realiza en la Sesión Experimental 1 y Sesión Experimental 2,\n",
    "siendo en esta última la subida de la respuesta en el LMS.\n",
    "● Desarrollar secciones:\n",
    "○ Feature Engineering\n",
    "○ Modelación (primera iteración)\n",
    "Requerimientos\n",
    "● Analizar el comportamiento del vector objetivo. (2 Puntos)\n",
    "● Reportar el patrón de datos perdidos. (1 Punto)\n",
    "● Implementar recodificaciones para el vector objetivo. (2 Puntos)\n",
    "● Las grillas de hiperparámetros para cada uno de los cinco modelos propuestos\n",
    "deben estar declaradas. (3 Puntos)\n",
    "● Generar la búsqueda de grilla de por lo menos dos modelos, preservando la\n",
    "información en un archivo serializado. (2 Puntos)\n",
    "● Entregable: Un notebook con todos los puntos detallados. De ser necesario, un\n",
    "archivo con extensión .py que contenga todas las funciones auxiliares."
   ]
  },
  {
   "cell_type": "markdown",
   "id": "12beda6d-70d5-49e7-81d1-18d42044b8f4",
   "metadata": {},
   "source": [
    "1 -La versión de python a usar es la siguiente : Python 3.8.8\n",
    "\n",
    "Las librerías a utilizar serán las siguientes:\n",
    "scikit-learn 0.24.2\n",
    "scipy 1.6.2\n",
    "seaborn 0.11.1\n",
    "pandas 1.2.4\n",
    "numpy 1.19.5\n",
    "missingno 0.5.0\n",
    "matplotlib 3.3.4\n",
    "regex 2021.4.4\n",
    "nltk 3.6.1"
   ]
  },
  {
   "cell_type": "markdown",
   "id": "af532bfc-b71c-41ef-b5bf-8a99bff6a464",
   "metadata": {},
   "source": [
    "La prueba a realizar consiste en un ejercicio de clasificacion dentro del contexto del procesamiento del lenguaje natural(NLP), donde debe clasificarse un listado de tweets según el tipo de emociones emparentado con cada uno de estos. \n",
    "El objetivo final del ejercicio es etiquetar entre tweets positivos y negativos de acuerdo a lo indicado en el enunciado, para ello se aplicará todo lo ya visto en clases. \n",
    "\n",
    "Iniciando con la importacion de librerías, un analisis superficial del dataset en primera instancia, luego se prosigue con la limpieza del dataset si es que existen datos nulos(Data cleaning), luego se continua con un Analisis exploratorio de la data(EDA), se hará la recodificacion de categorías en el vector objetivo, se limpiara el texto extrayendo aquel que es realmente significativo, excluyendo stopwords, palabras de alta frecuencia, urls, users, etc. Luego se tokenizará usando count_vectorizer y se transformará el texto a vector para poder pasarselo al algoritmo. Posteriormente se binarizará el vector objetivo y se procede a separar en muestras de entrenamiento y test. Luego se aplicarán los algoritmos vistos en clase, se propondrá usar Random Forest, Bayes Ingenuo, AdaBoost, GBoost y Regresión logística. Finalmente se evaluaran las metricas dadas en la matriz de confusión y en el reporte de accuracy, precision y F1-score para decidir que modelos son los mejores clasificadores."
   ]
  },
  {
   "cell_type": "markdown",
   "id": "e10d2826-be2b-4c73-8b59-e451bc9e51f0",
   "metadata": {},
   "source": [
    "2 -Se dividirán las muestras en entrenamiento y test, dejando un 20 % para la muestra de test, que servira para evaluar el desempeño de los modelos. \n",
    "Se aplicara binary-encoding para el vector objetivo. En cuanto al texto, se limpiara el texto, excluyendo stopwords, urls, users y se generara la vectorizacion para convertirlo en numeros que permita procesar la data por los algoritmos."
   ]
  },
  {
   "cell_type": "markdown",
   "id": "fe1e9f84-ce02-410d-986d-01c71bf551d3",
   "metadata": {},
   "source": [
    "3 - Se usaran los modelos bayes ingenuo, adaboost, gradientboosting, random forest y la regresion logistica. \n",
    "\n",
    "En base a lo visto en clases y lo investigado se pretende utilizar las siguientes grillas con hiperparametros.\n",
    "\n",
    "param_grid_nb = {'alpha': [0,1]}\n",
    "\n",
    "param_grid_ada = {'learning_rate': [0.01, 0.1, 0.5] ,'n_estimators': [50,100, 500, 1000, 2000]}\n",
    "\n",
    "param_grid_gb = {'learning_rate': [0.01, 0.1, 0.5], 'n_estimators': [50,100, 500, 1000,2000],\n",
    "                    'subsample': [0.1,0.5,0.9]}\n",
    "                    \n",
    "param_grid_rf={'n_estimators' : range(1, 1200, 250),\n",
    "                          'max_features':[None,'sqrt', 'log2'],\n",
    "                          'max_depth':[None, 3, 10, 20],\n",
    "                          'criterion'   : ['gini', 'entropy']}\n",
    "                          \n",
    "param_grid_lg = {'C': [0.001, 0.01, 0.1, 1, 10, 100, 1000] }"
   ]
  },
  {
   "cell_type": "code",
   "execution_count": 220,
   "id": "cefc687c-1542-40cb-bcc4-4a49e4030ec0",
   "metadata": {},
   "outputs": [],
   "source": [
    "# Importacion de librerías\n",
    "import numpy as np\n",
    "import pandas as pd\n",
    "import scipy.stats as stats\n",
    "import matplotlib.pyplot as plt\n",
    "import statsmodels.api as sm\n",
    "import statsmodels.formula.api as smf\n",
    "import seaborn as sns\n",
    "import warnings\n",
    "warnings.filterwarnings(\"ignore\", category=DeprecationWarning)\n",
    "import missingno as msno\n",
    "import random\n",
    "\n",
    "from nltk.stem.wordnet import WordNetLemmatizer\n",
    "import re\n",
    "from sklearn.feature_extraction.text import CountVectorizer\n",
    "from sklearn.model_selection import train_test_split\n",
    "from sklearn.naive_bayes import MultinomialNB\n",
    "from sklearn.metrics import classification_report\n",
    "from sklearn.metrics import confusion_matrix\n",
    "from xgboost import XGBClassifier\n",
    "from sklearn.ensemble import RandomForestClassifier\n",
    "from sklearn.linear_model import LogisticRegression\n",
    "from sklearn.metrics import roc_curve\n",
    "from sklearn.metrics import roc_auc_score\n",
    "from nltk.corpus import stopwords\n",
    "from sklearn.ensemble import AdaBoostClassifier\n",
    "from sklearn.ensemble import GradientBoostingClassifier\n",
    "from sklearn.model_selection import GridSearchCV\n",
    "from sklearn.decomposition import LatentDirichletAllocation\n",
    "from sklearn.svm import SVC "
   ]
  },
  {
   "cell_type": "code",
   "execution_count": 221,
   "id": "fe3d3da6-cc3f-45c2-830e-d0a29b2934cc",
   "metadata": {},
   "outputs": [
    {
     "name": "stderr",
     "output_type": "stream",
     "text": [
      "[nltk_data] Downloading package stopwords to /home/cris/nltk_data...\n",
      "[nltk_data]   Package stopwords is already up-to-date!\n",
      "[nltk_data] Downloading package wordnet to /home/cris/nltk_data...\n",
      "[nltk_data]   Package wordnet is already up-to-date!\n"
     ]
    }
   ],
   "source": [
    "import nltk\n",
    "nltk.download('stopwords')\n",
    "nltk.download('wordnet')\n",
    "lmtzr = WordNetLemmatizer()"
   ]
  },
  {
   "cell_type": "code",
   "execution_count": 222,
   "id": "87d64b72-33da-4d30-b6f6-60461ea5dc94",
   "metadata": {},
   "outputs": [],
   "source": [
    "# Carga csv\n",
    "df = pd.read_csv('training_tweets.csv').drop(columns=['Unnamed: 0'], axis = 1)"
   ]
  },
  {
   "cell_type": "code",
   "execution_count": 223,
   "id": "ddbd6aec-0700-4c09-a650-6c533225a993",
   "metadata": {},
   "outputs": [
    {
     "data": {
      "text/html": [
       "<div>\n",
       "<style scoped>\n",
       "    .dataframe tbody tr th:only-of-type {\n",
       "        vertical-align: middle;\n",
       "    }\n",
       "\n",
       "    .dataframe tbody tr th {\n",
       "        vertical-align: top;\n",
       "    }\n",
       "\n",
       "    .dataframe thead th {\n",
       "        text-align: right;\n",
       "    }\n",
       "</style>\n",
       "<table border=\"1\" class=\"dataframe\">\n",
       "  <thead>\n",
       "    <tr style=\"text-align: right;\">\n",
       "      <th></th>\n",
       "      <th>content</th>\n",
       "      <th>sentiment</th>\n",
       "    </tr>\n",
       "  </thead>\n",
       "  <tbody>\n",
       "    <tr>\n",
       "      <th>0</th>\n",
       "      <td>Happy Mama's day to all mothers</td>\n",
       "      <td>love</td>\n",
       "    </tr>\n",
       "    <tr>\n",
       "      <th>1</th>\n",
       "      <td>@LysdelTellez I am lost. Please help me find a...</td>\n",
       "      <td>worry</td>\n",
       "    </tr>\n",
       "    <tr>\n",
       "      <th>2</th>\n",
       "      <td>@BoomKatt yes yes I AM, networking whore to th...</td>\n",
       "      <td>happiness</td>\n",
       "    </tr>\n",
       "    <tr>\n",
       "      <th>3</th>\n",
       "      <td>you@snapplynn Wish that would have been your t...</td>\n",
       "      <td>neutral</td>\n",
       "    </tr>\n",
       "    <tr>\n",
       "      <th>4</th>\n",
       "      <td>now i am doing the MicroEconomics project  iha...</td>\n",
       "      <td>worry</td>\n",
       "    </tr>\n",
       "  </tbody>\n",
       "</table>\n",
       "</div>"
      ],
      "text/plain": [
       "                                             content  sentiment\n",
       "0                    Happy Mama's day to all mothers       love\n",
       "1  @LysdelTellez I am lost. Please help me find a...      worry\n",
       "2  @BoomKatt yes yes I AM, networking whore to th...  happiness\n",
       "3  you@snapplynn Wish that would have been your t...    neutral\n",
       "4  now i am doing the MicroEconomics project  iha...      worry"
      ]
     },
     "execution_count": 223,
     "metadata": {},
     "output_type": "execute_result"
    }
   ],
   "source": [
    "df.head()"
   ]
  },
  {
   "cell_type": "code",
   "execution_count": 224,
   "id": "dcbe3ac6-13ee-48a3-b9da-10e7252a9975",
   "metadata": {},
   "outputs": [
    {
     "data": {
      "text/plain": [
       "(30000, 2)"
      ]
     },
     "execution_count": 224,
     "metadata": {},
     "output_type": "execute_result"
    }
   ],
   "source": [
    "# Cantidad de datos\n",
    "df.shape"
   ]
  },
  {
   "cell_type": "code",
   "execution_count": 225,
   "id": "71ed5912-5291-48c4-a02f-e46de7cd420a",
   "metadata": {},
   "outputs": [
    {
     "data": {
      "text/plain": [
       "content      object\n",
       "sentiment    object\n",
       "dtype: object"
      ]
     },
     "execution_count": 225,
     "metadata": {},
     "output_type": "execute_result"
    }
   ],
   "source": [
    "# Tipo de datos\n",
    "df.dtypes"
   ]
  },
  {
   "cell_type": "markdown",
   "id": "dccc6368-e162-4ef3-b5f5-2d6471822af0",
   "metadata": {},
   "source": [
    "# Limpieza de datos"
   ]
  },
  {
   "cell_type": "code",
   "execution_count": 226,
   "id": "920fedbe-b50c-4850-9c57-ce274b76e0b3",
   "metadata": {},
   "outputs": [
    {
     "data": {
      "text/plain": [
       "<AxesSubplot:>"
      ]
     },
     "execution_count": 226,
     "metadata": {},
     "output_type": "execute_result"
    },
    {
     "data": {
      "image/png": "[encoded data removed]",
      "text/plain": [
       "<Figure size 1800x720 with 3 Axes>"
      ]
     },
     "metadata": {
      "needs_background": "light"
     },
     "output_type": "display_data"
    }
   ],
   "source": [
    "# Valores nulos\n",
    "msno.bar(df)"
   ]
  },
  {
   "cell_type": "code",
   "execution_count": 227,
   "id": "a2dbb562-43c8-462d-a3cd-3dbe75b2afeb",
   "metadata": {},
   "outputs": [
    {
     "data": {
      "text/plain": [
       "<AxesSubplot:>"
      ]
     },
     "execution_count": 227,
     "metadata": {},
     "output_type": "execute_result"
    },
    {
     "data": {
      "image/png": "[encoded data removed]",
      "text/plain": [
       "<Figure size 1800x720 with 2 Axes>"
      ]
     },
     "metadata": {
      "needs_background": "light"
     },
     "output_type": "display_data"
    }
   ],
   "source": [
    "# 5- Se reporta matriz de datos perdidos\n",
    "msno.matrix(df)"
   ]
  },
  {
   "cell_type": "markdown",
   "id": "4ef6375f-00e4-4f70-a74d-20d765430308",
   "metadata": {},
   "source": [
    "No hay valores nulos en el csv"
   ]
  },
  {
   "cell_type": "markdown",
   "id": "28a5a8bd-c56c-4d1b-9529-96696358b98e",
   "metadata": {},
   "source": [
    "# Analisis del vector objetivo"
   ]
  },
  {
   "cell_type": "code",
   "execution_count": 228,
   "id": "d4a709ef-4aaf-4131-9ad3-fa267639577f",
   "metadata": {},
   "outputs": [
    {
     "data": {
      "image/png": "[encoded data removed]",
      "text/plain": [
       "<Figure size 432x288 with 1 Axes>"
      ]
     },
     "metadata": {
      "needs_background": "light"
     },
     "output_type": "display_data"
    }
   ],
   "source": [
    "# 4- Grafica de frecuencias por sentimientos\n",
    "df['sentiment'].value_counts().plot.barh()\n",
    "plt.title('Frecuencia de sentimientos')\n",
    "plt.show()"
   ]
  },
  {
   "cell_type": "markdown",
   "id": "07e54c62-b503-46f8-a56b-c1a0fa3be0e6",
   "metadata": {},
   "source": [
    "La categoría neutral es la más frecuente, seguida por preocupacion(worry) y happiness(felicidad). De acuerdo a lo indicado en la recodificacion la data se encuentra balanceada entre sentimientos positivos y negativos."
   ]
  },
  {
   "cell_type": "markdown",
   "id": "239c5804-b7f3-40e2-966b-7715c555e7fe",
   "metadata": {},
   "source": [
    "# Recodificación vector objetivo"
   ]
  },
  {
   "cell_type": "code",
   "execution_count": 229,
   "id": "83ba9b74-3efc-4b8f-8731-1ded42fcd85e",
   "metadata": {},
   "outputs": [],
   "source": [
    "# 6- Reemplazo categorias(Positiva, Negativa, NaN)\n",
    "df['sentiment']=df['sentiment'].replace(['happiness', 'love', 'surprise', 'fun', 'relief', 'enthusiasm'], 'Positiva')\n",
    "df['sentiment']=df['sentiment'].replace(['worry', 'sadness', 'hate', 'empty', 'boredom', 'anger'], 'Negativa')\n",
    "df['sentiment']=df['sentiment'].replace(['neutral'], np.nan)"
   ]
  },
  {
   "cell_type": "markdown",
   "id": "78356d6a-fe0e-47b7-8850-ba4632a18dfe",
   "metadata": {},
   "source": [
    "# Eliminación de los valores nulos en reemplazo de la aleatorización"
   ]
  },
  {
   "cell_type": "markdown",
   "id": "0976bf24-53b9-48fe-b438-7ad9081c503f",
   "metadata": {},
   "source": [
    "Se desestima la aleatorización del vector objetivo, puesto que luego de probar los resultados de los modelos sin la aleatorización, estos tenían un mejor desempeño.   "
   ]
  },
  {
   "cell_type": "code",
   "execution_count": 230,
   "id": "1ea83d35-481c-4c5f-a293-45298dfb91bc",
   "metadata": {},
   "outputs": [],
   "source": [
    "#Se eliminan datos nulos\n",
    "df.dropna(inplace = True)"
   ]
  },
  {
   "cell_type": "code",
   "execution_count": 231,
   "id": "f896526f-786f-418e-8167-4540ca1ba41d",
   "metadata": {},
   "outputs": [
    {
     "data": {
      "text/plain": [
       "(23549, 2)"
      ]
     },
     "execution_count": 231,
     "metadata": {},
     "output_type": "execute_result"
    }
   ],
   "source": [
    "#Se indica numeros de filas y columnas\n",
    "df.shape"
   ]
  },
  {
   "cell_type": "code",
   "execution_count": 232,
   "id": "1ba35808-a603-4cfd-a104-a8c5250e7438",
   "metadata": {},
   "outputs": [
    {
     "data": {
      "text/plain": [
       "Negativa    12022\n",
       "Positiva    11527\n",
       "Name: sentiment, dtype: int64"
      ]
     },
     "execution_count": 232,
     "metadata": {},
     "output_type": "execute_result"
    }
   ],
   "source": [
    "#Se indica distribución del vector objetivo\n",
    "df['sentiment'].value_counts()"
   ]
  },
  {
   "cell_type": "markdown",
   "id": "57659524-566b-4398-b6cc-3585721c9c76",
   "metadata": {},
   "source": [
    "# Distribución de datos post-aleatorización"
   ]
  },
  {
   "cell_type": "code",
   "execution_count": 233,
   "id": "ee9af522-1f68-4b62-854f-2fde49d80f32",
   "metadata": {},
   "outputs": [
    {
     "data": {
      "image/png": "[encoded data removed]",
      "text/plain": [
       "<Figure size 432x288 with 1 Axes>"
      ]
     },
     "metadata": {
      "needs_background": "light"
     },
     "output_type": "display_data"
    }
   ],
   "source": [
    "# Distribucion de datos post-aleatorizacion\n",
    "df['sentiment'].value_counts().plot.barh()\n",
    "plt.title('Conteo de tweets negativos y positivos')\n",
    "plt.show()"
   ]
  },
  {
   "cell_type": "markdown",
   "id": "bde890c5-67ce-4a3a-bc82-ba5b9377568c",
   "metadata": {},
   "source": [
    "La distribución se encuentra balanceada entre tweets positivos y negativos."
   ]
  },
  {
   "cell_type": "markdown",
   "id": "a99e8feb-64f4-481c-a4e3-5a2e91cd0164",
   "metadata": {},
   "source": [
    "# Binarización de vector objetico"
   ]
  },
  {
   "cell_type": "code",
   "execution_count": 234,
   "id": "31d338bb-da49-472a-874a-89dfdb9be805",
   "metadata": {},
   "outputs": [],
   "source": [
    "#Binarizacion de income\n",
    "df['sentiment'] = np.where(df['sentiment'] == 'Positiva',1,0)"
   ]
  },
  {
   "cell_type": "code",
   "execution_count": 235,
   "id": "59d54c3f-fe9d-41bb-971f-64f74ddc6406",
   "metadata": {},
   "outputs": [
    {
     "data": {
      "text/plain": [
       "0    1\n",
       "1    0\n",
       "2    1\n",
       "4    0\n",
       "6    1\n",
       "Name: sentiment, dtype: int64"
      ]
     },
     "execution_count": 235,
     "metadata": {},
     "output_type": "execute_result"
    }
   ],
   "source": [
    "#Se muestran cambios en la columna sentiment\n",
    "df['sentiment'].head()"
   ]
  },
  {
   "cell_type": "code",
   "execution_count": 236,
   "id": "13fdf9db-6dc0-4519-a3d6-d28c38a9d8db",
   "metadata": {},
   "outputs": [],
   "source": [
    "# Se genera objeto con stopwords\n",
    "stop = stopwords.words('english')"
   ]
  },
  {
   "cell_type": "code",
   "execution_count": 237,
   "id": "5b41867c-0bd4-476b-affd-ef43754c7f1c",
   "metadata": {},
   "outputs": [
    {
     "data": {
      "text/plain": [
       "['i', 'me', 'my', 'myself', 'we']"
      ]
     },
     "execution_count": 237,
     "metadata": {},
     "output_type": "execute_result"
    }
   ],
   "source": [
    "# Se reportan cinco primeras stopwords\n",
    "stop[0:5]"
   ]
  },
  {
   "cell_type": "code",
   "execution_count": 238,
   "id": "a64a2859-bcd5-45ff-94c9-3238f4ed7c51",
   "metadata": {},
   "outputs": [],
   "source": [
    "# Se genera funcion para limpiar y preprocesar el texto \n",
    "def super_preproc(df, texto):\n",
    "    \"\"\"\n",
    "    super_preproc: Convierte el texto de una columna a minusculas, luego expande las expresiones cortas en ingles, \n",
    "                    remueve @users, numeros, emoticones y urls. Además remueve stopwords y palabras con un tronco lexico comun\n",
    "                    \n",
    "    df: Dataframe\n",
    "    texto: columna de un dataframe que se pretende limpiar y preprocesar. \n",
    "    \n",
    "    \"\"\"\n",
    "    \n",
    "    #se convierte el texto a minusculas de acuerdo a lo solicitado\n",
    "    df[texto] = df[texto].str.lower()\n",
    "    \n",
    "    #se expanden expresiones cortas del ingles \n",
    "    df[texto] = df[texto].apply(lambda x: re.sub(r\"can't\", \"can not\", x))  \n",
    "    df[texto] = df[texto].apply(lambda x: re.sub(r\"n\\'t\", \" not\", x))\n",
    "    df[texto] = df[texto].apply(lambda x: re.sub(r\"\\'re\", \" are\", x))\n",
    "    df[texto] = df[texto].apply(lambda x: re.sub(r\"\\'m\",\" am\", x))\n",
    "    df[texto] = df[texto].apply(lambda x: re.sub(r\"\\'s\",\" is\", x))\n",
    "    df[texto] = df[texto].apply(lambda x: re.sub(r\"\\'ll\",\" will\", x))\n",
    "    df[texto] = df[texto].apply(lambda x: re.sub(r\"\\'ve\",\" have\", x))\n",
    "    df[texto] = df[texto].apply(lambda x: re.sub(r\"\\'t\", \" not\", x))\n",
    "    \n",
    "    #se remueven @user, numeros, emoticones, urls que no aportan informacion relevante \n",
    "    df[texto] = df[texto].apply(lambda x: re.sub(r\"(@[A-Za-z0-9]+)|([^0-9A-Za-z \\t])|(\\w+:\\/\\/\\S+)|^rt|http.+?\", \"\", x))\n",
    "    \n",
    "    #se remueven stopwords y se acortan los espacios \n",
    "    df[texto] = df[texto].apply(lambda x: ' '.join([word for word in x.split() if word not in (stop)]))\n",
    "    \n",
    "    #Lematizacion de palabras(reduccion de palabras con un tronco lexico comun)\n",
    "    df[texto] = df[texto].apply(lambda x: \" \".join([lmtzr.lemmatize(word) for word in x.split()]))"
   ]
  },
  {
   "cell_type": "code",
   "execution_count": 239,
   "id": "22a076bf-3e17-4003-9147-5499204b0370",
   "metadata": {},
   "outputs": [],
   "source": [
    "#Se aplica funcion sobre la columna que contiene el texto\n",
    "super_preproc(df, 'content')"
   ]
  },
  {
   "cell_type": "code",
   "execution_count": 240,
   "id": "d5884546-b497-4c8f-9b76-a8ad0c31fe89",
   "metadata": {},
   "outputs": [
    {
     "data": {
      "text/plain": [
       "0                                happy mama day mother\n",
       "1                      lost please help find good home\n",
       "2    yes yes networking whore fullestand girl rih next\n",
       "4    microeconomics project ihate subject amp besid...\n",
       "6    first thought bar life meant partying nonstop ...\n",
       "Name: content, dtype: object"
      ]
     },
     "execution_count": 240,
     "metadata": {},
     "output_type": "execute_result"
    }
   ],
   "source": [
    "#Se muestran cambios realizados en la columna content\n",
    "df['content'].head()"
   ]
  },
  {
   "cell_type": "code",
   "execution_count": 241,
   "id": "852b8afc-3276-4369-8d9c-72ffa4a6b9e7",
   "metadata": {},
   "outputs": [],
   "source": [
    "# Se genera matriz y contador de frecuencias\n",
    "count_vectorizer=CountVectorizer()\n",
    "count_vectorizer_fit = count_vectorizer.fit_transform(df['content'])\n",
    "words = count_vectorizer.get_feature_names()\n",
    "words_freq = count_vectorizer_fit.toarray().sum(axis=0)"
   ]
  },
  {
   "cell_type": "code",
   "execution_count": 242,
   "id": "bae6e9a7-c9b9-4e02-b068-7897b74e9a4b",
   "metadata": {},
   "outputs": [],
   "source": [
    "#Se genera dataframe para para mostrar las 100 palabras mas repetidas en la base de datos\n",
    "df_top_words = pd.DataFrame(data= {'freq': words_freq}, index = words)\n",
    "by_freq = df_top_words.sort_values('freq',ascending = False)"
   ]
  },
  {
   "cell_type": "code",
   "execution_count": 243,
   "id": "0643612c-5ff9-428d-b240-926542e1143d",
   "metadata": {},
   "outputs": [
    {
     "data": {
      "image/png": "[encoded data removed]",
      "text/plain": [
       "<Figure size 432x288 with 1 Axes>"
      ]
     },
     "metadata": {
      "needs_background": "light"
     },
     "output_type": "display_data"
    }
   ],
   "source": [
    "# Grafica 20 palabras mas usadas en Twitter\n",
    "by_freq.head(10).plot.barh()\n",
    "plt.title('Frecuencia de palabras más usadas en twitter')\n",
    "plt.show()"
   ]
  },
  {
   "cell_type": "code",
   "execution_count": 244,
   "id": "9e19cc2d-9ca2-4ded-9885-829abb2801ee",
   "metadata": {},
   "outputs": [],
   "source": [
    "#Se generan sets de características y etiquetas\n",
    "X_features = count_vectorizer_fit\n",
    "y_label = df['sentiment']"
   ]
  },
  {
   "cell_type": "code",
   "execution_count": 245,
   "id": "a02b1043-bbdc-40fb-b0ef-487cf0d1f7e8",
   "metadata": {},
   "outputs": [],
   "source": [
    "#Se genera separacion de muestras en entrenamiento y test\n",
    "X_train, X_test, y_train, y_test = train_test_split(X_features, y_label, test_size = 0.3, random_state = 4982)"
   ]
  },
  {
   "cell_type": "code",
   "execution_count": 113,
   "id": "ad325a4c-495f-40ee-bb97-fb348cdbc34d",
   "metadata": {},
   "outputs": [],
   "source": [
    "# Se importa pickle para guardar modelos serializados\n",
    "import pickle"
   ]
  },
  {
   "cell_type": "markdown",
   "id": "d383f564-6596-445d-ab2c-adba49733311",
   "metadata": {},
   "source": [
    "# Generación de modelos"
   ]
  },
  {
   "cell_type": "markdown",
   "id": "93261873-392f-45ad-872a-2922349fae16",
   "metadata": {},
   "source": [
    "# Bayes Ingenuo"
   ]
  },
  {
   "cell_type": "code",
   "execution_count": 163,
   "id": "bdad8fd8-d503-4d29-9210-158a4ad8dba8",
   "metadata": {},
   "outputs": [],
   "source": [
    "#Se indica grilla de hiperparametros a probar. \n",
    "param_grid_nb = {'alpha': [0,0.25,0.5,0.75,1]}"
   ]
  },
  {
   "cell_type": "code",
   "execution_count": 164,
   "id": "e8705ff9-efcf-479b-9154-ff92e0012419",
   "metadata": {},
   "outputs": [],
   "source": [
    "# Se aplica grilla con hiperparametros y entrenamiento\n",
    "nb_grid = GridSearchCV(MultinomialNB(),\n",
    "param_grid = param_grid_nb, cv=5, n_jobs= -1).fit(X_train, y_train)"
   ]
  },
  {
   "cell_type": "code",
   "execution_count": null,
   "id": "3fc88553-ad1a-4ecc-9d37-e2899ec4faaa",
   "metadata": {},
   "outputs": [],
   "source": [
    "#Se indica la mejor combinacion de hiperparametros para bayes ingenuo\n",
    "nb_grid.best_estimator_"
   ]
  },
  {
   "cell_type": "markdown",
   "id": "1dbc1b8d-72d0-4fc3-97f6-819a0bac7602",
   "metadata": {},
   "source": [
    "Se asume que alpha 1 es el mejor hiperparametro. "
   ]
  },
  {
   "cell_type": "code",
   "execution_count": 166,
   "id": "d1911578-e561-403c-a2fe-24f9d6238069",
   "metadata": {},
   "outputs": [],
   "source": [
    "#Se entrena el modelo con la mejor selección de hiperparametros\n",
    "NaiveBclassifier = MultinomialNB(alpha=1)\n",
    "model_bayes = NaiveBclassifier.fit(X_train,y_train)"
   ]
  },
  {
   "cell_type": "code",
   "execution_count": 167,
   "id": "04fcc1dc-193a-4392-9339-99108a8cbb9c",
   "metadata": {},
   "outputs": [
    {
     "name": "stdout",
     "output_type": "stream",
     "text": [
      "              precision    recall  f1-score   support\n",
      "\n",
      "           0       0.72      0.75      0.73      3605\n",
      "           1       0.73      0.69      0.71      3460\n",
      "\n",
      "    accuracy                           0.72      7065\n",
      "   macro avg       0.72      0.72      0.72      7065\n",
      "weighted avg       0.72      0.72      0.72      7065\n",
      "\n"
     ]
    }
   ],
   "source": [
    "yhat_nb = model_bayes.predict(X_test)\n",
    "print(classification_report(y_test, yhat_nb))"
   ]
  },
  {
   "cell_type": "markdown",
   "id": "2ca36f12-a09a-420e-a331-9160e9a8d5f3",
   "metadata": {},
   "source": [
    "Según la precisión obtenida, podemos decir que un 72% de las veces acertaremos en la predicción de la clase 0, en tanto un 73% en la clase 1. En cuanto a recall, se puede observar que el modelo identificará un 75% de las veces la clase 0 y un 69% la clase 1. Por último, acertaría en un 72% de las veces de acuerdo al accuracy. "
   ]
  },
  {
   "cell_type": "code",
   "execution_count": 120,
   "id": "e824f6f0-ae27-46a8-ad6a-6acfbc42a712",
   "metadata": {},
   "outputs": [
    {
     "data": {
      "text/html": [
       "<div>\n",
       "<style scoped>\n",
       "    .dataframe tbody tr th:only-of-type {\n",
       "        vertical-align: middle;\n",
       "    }\n",
       "\n",
       "    .dataframe tbody tr th {\n",
       "        vertical-align: top;\n",
       "    }\n",
       "\n",
       "    .dataframe thead th {\n",
       "        text-align: right;\n",
       "    }\n",
       "</style>\n",
       "<table border=\"1\" class=\"dataframe\">\n",
       "  <thead>\n",
       "    <tr style=\"text-align: right;\">\n",
       "      <th>col_0</th>\n",
       "      <th>0</th>\n",
       "      <th>1</th>\n",
       "    </tr>\n",
       "    <tr>\n",
       "      <th>sentiment</th>\n",
       "      <th></th>\n",
       "      <th></th>\n",
       "    </tr>\n",
       "  </thead>\n",
       "  <tbody>\n",
       "    <tr>\n",
       "      <th>0</th>\n",
       "      <td>2699</td>\n",
       "      <td>906</td>\n",
       "    </tr>\n",
       "    <tr>\n",
       "      <th>1</th>\n",
       "      <td>1068</td>\n",
       "      <td>2392</td>\n",
       "    </tr>\n",
       "  </tbody>\n",
       "</table>\n",
       "</div>"
      ],
      "text/plain": [
       "col_0         0     1\n",
       "sentiment            \n",
       "0          2699   906\n",
       "1          1068  2392"
      ]
     },
     "execution_count": 120,
     "metadata": {},
     "output_type": "execute_result"
    }
   ],
   "source": [
    "#Se genera matriz de confusion\n",
    "pd.crosstab(y_test, yhat_nb)"
   ]
  },
  {
   "cell_type": "markdown",
   "id": "0c2125f8-59d4-40f1-ad00-769d7cc947ff",
   "metadata": {},
   "source": [
    "La matriz de confusión presenta una buena tasa de verdaderos positivos y falsos negativos, en contraste con bajas tasas de falsos positivos y falsos negativos. "
   ]
  },
  {
   "cell_type": "code",
   "execution_count": 121,
   "id": "130cffc9-0326-4169-8732-0dad141ddb70",
   "metadata": {},
   "outputs": [
    {
     "data": {
      "text/plain": [
       "0.7200059326721878"
      ]
     },
     "execution_count": 121,
     "metadata": {},
     "output_type": "execute_result"
    }
   ],
   "source": [
    "#Se indica puntaje ROC\n",
    "roc_auc_score(y_test, yhat_nb)"
   ]
  },
  {
   "cell_type": "markdown",
   "id": "4256753d-8752-444d-bb46-51970c640b1b",
   "metadata": {},
   "source": [
    "Con un valor de .72, este modelo tiene un desempeño de 22% superior a un mecanismo\n",
    "de clasificación aleatoria para predecir el tipo de sentimiento"
   ]
  },
  {
   "cell_type": "markdown",
   "id": "082da244-147b-418d-9d19-ea79a4239102",
   "metadata": {},
   "source": [
    "# AdaBoost"
   ]
  },
  {
   "cell_type": "code",
   "execution_count": 123,
   "id": "7700443e-4957-4d2b-a700-483703b46138",
   "metadata": {},
   "outputs": [],
   "source": [
    "#Se indica grilla de hiperparametros a probar\n",
    "param_grid_ada = {'learning_rate': [0.01, 0.1, 0.5] ,'n_estimators': [50,100, 500, 1000, 2000]}"
   ]
  },
  {
   "cell_type": "code",
   "execution_count": 192,
   "id": "6368c779-05e8-44b3-a51e-c15ccbca8096",
   "metadata": {},
   "outputs": [],
   "source": [
    "#Se indica segunda grilla de hiperparametros a probar\n",
    "param_grid_ada2 = {'learning_rate': [0.2,0.4,0.6] ,'n_estimators': [650, 750, 850]}"
   ]
  },
  {
   "cell_type": "code",
   "execution_count": 197,
   "id": "20a77ec0-c019-458f-926e-18ce38e913ae",
   "metadata": {},
   "outputs": [],
   "source": [
    "#Se indica tercera grilla de hiperparametros a probar\n",
    "param_grid_ada3 = {'learning_rate': [0.4] ,'n_estimators': [600, 625, 650, 675, 700]}"
   ]
  },
  {
   "cell_type": "code",
   "execution_count": 198,
   "id": "51312116-ff6b-43a2-a607-a28315be086e",
   "metadata": {},
   "outputs": [],
   "source": [
    "# Se aplica grilla con hiperparametros y entrenamiento\n",
    "ada_grid = GridSearchCV(AdaBoostClassifier(),\n",
    "param_grid = param_grid_ada3, cv=5, n_jobs= -1).fit(X_train, y_train)"
   ]
  },
  {
   "cell_type": "code",
   "execution_count": 199,
   "id": "21a793ea-7135-40e7-98c1-09e659c407f3",
   "metadata": {},
   "outputs": [
    {
     "data": {
      "text/plain": [
       "AdaBoostClassifier(learning_rate=0.4, n_estimators=650)"
      ]
     },
     "execution_count": 199,
     "metadata": {},
     "output_type": "execute_result"
    }
   ],
   "source": [
    "#Se indica la mejor combinacion de hiperparametros para adaboost\n",
    "ada_grid.best_estimator_"
   ]
  },
  {
   "cell_type": "code",
   "execution_count": 200,
   "id": "ab431141-2ef5-4e27-ab53-71aac012878a",
   "metadata": {},
   "outputs": [],
   "source": [
    "#Se entrena el modelo con la mejor selección de hiperparametros\n",
    "ada = AdaBoostClassifier(learning_rate = 0.4, n_estimators=650)\n",
    "model_ada = ada.fit(X_train, y_train)"
   ]
  },
  {
   "cell_type": "code",
   "execution_count": 201,
   "id": "b2893977-de95-487a-8434-a11215ce8ab9",
   "metadata": {},
   "outputs": [
    {
     "name": "stdout",
     "output_type": "stream",
     "text": [
      "              precision    recall  f1-score   support\n",
      "\n",
      "           0       0.69      0.79      0.74      3605\n",
      "           1       0.74      0.64      0.69      3460\n",
      "\n",
      "    accuracy                           0.71      7065\n",
      "   macro avg       0.72      0.71      0.71      7065\n",
      "weighted avg       0.72      0.71      0.71      7065\n",
      "\n"
     ]
    }
   ],
   "source": [
    "#Se reportan las metricas para adaboost\n",
    "yhat_ada = model_ada.predict(X_test)\n",
    "print(classification_report(y_test, yhat_ada))"
   ]
  },
  {
   "cell_type": "markdown",
   "id": "d256f3b0-81c1-4efd-9c8e-1c5177689e85",
   "metadata": {},
   "source": [
    "Según la precisión obtenida, podemos decir que un 69% de las veces acertaremos en la predicción de la clase 0, en tanto un 74% en la clase 1. En cuanto a recall, se puede observar que el modelo identificará un 79% de las veces la clase 0 y un 64% la clase 1. Por último, acertaría en un 71% de las veces de acuerdo al accuracy. "
   ]
  },
  {
   "cell_type": "code",
   "execution_count": 202,
   "id": "36caa088-82aa-48b3-9fc8-74b26e8865d3",
   "metadata": {},
   "outputs": [
    {
     "data": {
      "text/html": [
       "<div>\n",
       "<style scoped>\n",
       "    .dataframe tbody tr th:only-of-type {\n",
       "        vertical-align: middle;\n",
       "    }\n",
       "\n",
       "    .dataframe tbody tr th {\n",
       "        vertical-align: top;\n",
       "    }\n",
       "\n",
       "    .dataframe thead th {\n",
       "        text-align: right;\n",
       "    }\n",
       "</style>\n",
       "<table border=\"1\" class=\"dataframe\">\n",
       "  <thead>\n",
       "    <tr style=\"text-align: right;\">\n",
       "      <th>col_0</th>\n",
       "      <th>0</th>\n",
       "      <th>1</th>\n",
       "    </tr>\n",
       "    <tr>\n",
       "      <th>sentiment</th>\n",
       "      <th></th>\n",
       "      <th></th>\n",
       "    </tr>\n",
       "  </thead>\n",
       "  <tbody>\n",
       "    <tr>\n",
       "      <th>0</th>\n",
       "      <td>2848</td>\n",
       "      <td>757</td>\n",
       "    </tr>\n",
       "    <tr>\n",
       "      <th>1</th>\n",
       "      <td>1260</td>\n",
       "      <td>2200</td>\n",
       "    </tr>\n",
       "  </tbody>\n",
       "</table>\n",
       "</div>"
      ],
      "text/plain": [
       "col_0         0     1\n",
       "sentiment            \n",
       "0          2848   757\n",
       "1          1260  2200"
      ]
     },
     "execution_count": 202,
     "metadata": {},
     "output_type": "execute_result"
    }
   ],
   "source": [
    "#Se genera matriz de confusion\n",
    "pd.crosstab(y_test, yhat_ada)"
   ]
  },
  {
   "cell_type": "markdown",
   "id": "987ec855-bc69-4a6d-8066-0170a3da2475",
   "metadata": {},
   "source": [
    "La matriz de confusión presenta una buena tasa de verdaderos positivos y falsos negativos, en contraste con bajas tasas de falsos positivos y falsos negativos.  "
   ]
  },
  {
   "cell_type": "code",
   "execution_count": 203,
   "id": "9987b129-4678-4c8d-9587-6b74e5a8a09c",
   "metadata": {},
   "outputs": [
    {
     "data": {
      "text/plain": [
       "0.7129260099572687"
      ]
     },
     "execution_count": 203,
     "metadata": {},
     "output_type": "execute_result"
    }
   ],
   "source": [
    "#Se indica puntaje ROC\n",
    "roc_auc_score(y_test, yhat_ada)"
   ]
  },
  {
   "cell_type": "markdown",
   "id": "f9dc9ba3-ba5e-4cfe-9dfb-e3d08b4f9328",
   "metadata": {},
   "source": [
    "Con un valor de .71, este modelo tiene un desempeño de 21% superior a un mecanismo\n",
    "de clasificación aleatoria para predecir el tipo de sentimiento"
   ]
  },
  {
   "cell_type": "markdown",
   "id": "f1292cf9-3456-4cc5-9813-2fffe2984ee5",
   "metadata": {},
   "source": [
    "# GBoosting"
   ]
  },
  {
   "cell_type": "code",
   "execution_count": 131,
   "id": "1ee70d73-0bd4-454a-9f67-b6110a1a7ede",
   "metadata": {},
   "outputs": [],
   "source": [
    "#Se indica grilla de hiperparametros a probar\n",
    "param_grid_gb = {'learning_rate': [0.01, 0.1, 0.5], 'n_estimators': [50,100, 500, 1000,2000],\n",
    "                    'subsample': [0.1,0.5,0.9]}"
   ]
  },
  {
   "cell_type": "code",
   "execution_count": 204,
   "id": "4ee7f3ba-214d-4c63-a94e-3d8e72aacc23",
   "metadata": {},
   "outputs": [],
   "source": [
    "#Se indica segunda grilla de hiperparametros a probar\n",
    "param_grid_gb2 = {'learning_rate': [0.05,0.1, 0.25], 'n_estimators': [2000],\n",
    "                    'subsample': [0.7,0.9, 1.1]}"
   ]
  },
  {
   "cell_type": "code",
   "execution_count": 211,
   "id": "3cc039dc-c30c-43c3-9d8e-252d13392ef4",
   "metadata": {},
   "outputs": [],
   "source": [
    "#Se indica tercera grilla de hiperparametros a probar\n",
    "param_grid_gb3 = {'learning_rate': [0.025,0.05, 0.075], 'n_estimators': [2000],\n",
    "                    'subsample': [0.65,0.7, 0.75]}"
   ]
  },
  {
   "cell_type": "code",
   "execution_count": 212,
   "id": "41bd9a17-fbab-47c8-9321-2bc2b4e37515",
   "metadata": {},
   "outputs": [],
   "source": [
    "# Se aplica grilla con hiperparametros y entrenamiento\n",
    "gb_grid = GridSearchCV(GradientBoostingClassifier(),\n",
    "param_grid = param_grid_gb3,\n",
    "cv=5, n_jobs = -1).fit(X_train, y_train)"
   ]
  },
  {
   "cell_type": "code",
   "execution_count": 213,
   "id": "47817dcf-a1b5-4862-9eb9-913a105ab019",
   "metadata": {},
   "outputs": [
    {
     "data": {
      "text/plain": [
       "{'learning_rate': 0.05, 'n_estimators': 2000, 'subsample': 0.75}"
      ]
     },
     "execution_count": 213,
     "metadata": {},
     "output_type": "execute_result"
    }
   ],
   "source": [
    "#Se indica la mejor combinacion de hiperparametros para gradientboost\n",
    "gb_grid.best_params_"
   ]
  },
  {
   "cell_type": "code",
   "execution_count": 214,
   "id": "2b9cd52b-33c7-4507-8488-bd75814c1d9b",
   "metadata": {},
   "outputs": [],
   "source": [
    "#Se entrena el modelo con la mejor selección de hiperparametros\n",
    "model_g = GradientBoostingClassifier(learning_rate = 0.05, n_estimators= 2000, subsample = 0.75)\n",
    "model_gb = model_g.fit(X_train,y_train)"
   ]
  },
  {
   "cell_type": "code",
   "execution_count": 215,
   "id": "a245b3aa-8341-4d95-b046-3d38b001ed57",
   "metadata": {},
   "outputs": [
    {
     "name": "stdout",
     "output_type": "stream",
     "text": [
      "              precision    recall  f1-score   support\n",
      "\n",
      "           0       0.71      0.78      0.74      3605\n",
      "           1       0.74      0.67      0.70      3460\n",
      "\n",
      "    accuracy                           0.72      7065\n",
      "   macro avg       0.73      0.72      0.72      7065\n",
      "weighted avg       0.73      0.72      0.72      7065\n",
      "\n"
     ]
    }
   ],
   "source": [
    "#Se reportan las metricas para gboost\n",
    "yhat_gb = model_gb.predict(X_test)\n",
    "print(classification_report(y_test, yhat_gb))"
   ]
  },
  {
   "cell_type": "markdown",
   "id": "5b45b7d4-e0a2-4e6b-a587-88cb76a7d4ec",
   "metadata": {},
   "source": [
    "Según la precisión obtenida, podemos decir que un 71% de las veces acertaremos en la predicción de la clase 0, en tanto un 74% en la clase 1. En cuanto a recall, se puede observar que el modelo identificará un 78% de las veces la clase 0 y un 67% la clase 1. Por último, acertaría en un 73% de las veces de acuerdo al accuracy. "
   ]
  },
  {
   "cell_type": "code",
   "execution_count": 216,
   "id": "47d6a17c-c9de-4cdd-9c42-1ce0784406a7",
   "metadata": {},
   "outputs": [
    {
     "data": {
      "text/html": [
       "<div>\n",
       "<style scoped>\n",
       "    .dataframe tbody tr th:only-of-type {\n",
       "        vertical-align: middle;\n",
       "    }\n",
       "\n",
       "    .dataframe tbody tr th {\n",
       "        vertical-align: top;\n",
       "    }\n",
       "\n",
       "    .dataframe thead th {\n",
       "        text-align: right;\n",
       "    }\n",
       "</style>\n",
       "<table border=\"1\" class=\"dataframe\">\n",
       "  <thead>\n",
       "    <tr style=\"text-align: right;\">\n",
       "      <th>col_0</th>\n",
       "      <th>0</th>\n",
       "      <th>1</th>\n",
       "    </tr>\n",
       "    <tr>\n",
       "      <th>sentiment</th>\n",
       "      <th></th>\n",
       "      <th></th>\n",
       "    </tr>\n",
       "  </thead>\n",
       "  <tbody>\n",
       "    <tr>\n",
       "      <th>0</th>\n",
       "      <td>2801</td>\n",
       "      <td>804</td>\n",
       "    </tr>\n",
       "    <tr>\n",
       "      <th>1</th>\n",
       "      <td>1142</td>\n",
       "      <td>2318</td>\n",
       "    </tr>\n",
       "  </tbody>\n",
       "</table>\n",
       "</div>"
      ],
      "text/plain": [
       "col_0         0     1\n",
       "sentiment            \n",
       "0          2801   804\n",
       "1          1142  2318"
      ]
     },
     "execution_count": 216,
     "metadata": {},
     "output_type": "execute_result"
    }
   ],
   "source": [
    "#Se genera matriz de confusion\n",
    "pd.crosstab(y_test, yhat_gb)"
   ]
  },
  {
   "cell_type": "markdown",
   "id": "7fd921fb-8db2-4ac8-a921-4abd6c184097",
   "metadata": {},
   "source": [
    "La matriz de confusión presenta una buena tasa de verdaderos positivos y falsos negativos, en contraste con bajas tasas de falsos positivos y falsos negativos. "
   ]
  },
  {
   "cell_type": "code",
   "execution_count": 217,
   "id": "f4efa6cf-238d-4a95-a23d-e658b177db47",
   "metadata": {},
   "outputs": [
    {
     "data": {
      "text/plain": [
       "0.723459309084204"
      ]
     },
     "execution_count": 217,
     "metadata": {},
     "output_type": "execute_result"
    }
   ],
   "source": [
    "#Se indica puntaje ROC\n",
    "roc_auc_score(y_test, yhat_gb)"
   ]
  },
  {
   "cell_type": "markdown",
   "id": "d8db6533-0461-49b2-ba4c-12123a7cc042",
   "metadata": {},
   "source": [
    "Con un valor de .72, este modelo tiene un desempeño de 22% superior a un mecanismo\n",
    "de clasificación aleatoria para predecir el tipo de sentimiento"
   ]
  },
  {
   "cell_type": "code",
   "execution_count": 219,
   "id": "cc6af647-d4e8-45eb-89ed-5cc574bb9bd3",
   "metadata": {},
   "outputs": [],
   "source": [
    "#Se serializa el modelo\n",
    "pickle.dump(model_gb,open('model_gb.sav','wb'))"
   ]
  },
  {
   "cell_type": "markdown",
   "id": "9baee573-ed3c-4574-8d1c-a78846562e86",
   "metadata": {},
   "source": [
    "# Random Forest"
   ]
  },
  {
   "cell_type": "code",
   "execution_count": 139,
   "id": "d99f54d2-6e19-4837-a051-0e47465b9e33",
   "metadata": {},
   "outputs": [],
   "source": [
    "#Se indica grilla de hiperparametros a probar\n",
    "param_grid_rf={'n_estimators' : range(1, 1200, 250),\n",
    "                          'max_features':[None,'sqrt', 'log2'],\n",
    "                          'max_depth':[None, 3, 10, 20],\n",
    "                          'criterion'   : ['gini', 'entropy']}"
   ]
  },
  {
   "cell_type": "code",
   "execution_count": 140,
   "id": "5e6bc70b-0f8d-4382-96bd-b569f5682cf0",
   "metadata": {},
   "outputs": [
    {
     "name": "stderr",
     "output_type": "stream",
     "text": [
      "/home/cris/anaconda3/lib/python3.8/site-packages/joblib/externals/loky/process_executor.py:688: UserWarning: A worker stopped while some jobs were given to the executor. This can be caused by a too short worker timeout or by a memory leak.\n",
      "  warnings.warn(\n"
     ]
    }
   ],
   "source": [
    "# Se aplica grilla con hiperparametros y entrenamiento\n",
    "rf_grid = GridSearchCV(RandomForestClassifier(),\n",
    "param_grid = param_grid_rf,\n",
    "cv=5, n_jobs = -1).fit(X_train, y_train)"
   ]
  },
  {
   "cell_type": "code",
   "execution_count": 142,
   "id": "f9c21261-b392-4e4f-9110-80895861366b",
   "metadata": {},
   "outputs": [
    {
     "data": {
      "text/plain": [
       "{'criterion': 'entropy',\n",
       " 'max_depth': None,\n",
       " 'max_features': 'sqrt',\n",
       " 'n_estimators': 751}"
      ]
     },
     "execution_count": 142,
     "metadata": {},
     "output_type": "execute_result"
    }
   ],
   "source": [
    "#Se indica la mejor combinacion de hiperparametros para randomforest\n",
    "rf_grid.best_params_"
   ]
  },
  {
   "cell_type": "markdown",
   "id": "7f860e48-d484-4df0-b9cc-18a84ba87b34",
   "metadata": {},
   "source": [
    "De acuerdo a lo categórico de los resultados y la cantidad de tiempo de entrenamiento de Random Forest, se define la primera grilla como la mejor combinación de hiperparametros"
   ]
  },
  {
   "cell_type": "code",
   "execution_count": 143,
   "id": "23df7d98-fca8-49e3-a290-37aa2dfa04c7",
   "metadata": {},
   "outputs": [],
   "source": [
    "#Se entrena el modelo con la mejor selección de hiperparametros\n",
    "model_rf = RandomForestClassifier(n_estimators = 751, criterion = 'entropy', max_depth = None, max_features = 'sqrt')\n",
    "model_forest = model_rf.fit(X_train,y_train)"
   ]
  },
  {
   "cell_type": "code",
   "execution_count": 144,
   "id": "73b2af68-df99-449d-8d72-c106486096b4",
   "metadata": {},
   "outputs": [
    {
     "name": "stdout",
     "output_type": "stream",
     "text": [
      "              precision    recall  f1-score   support\n",
      "\n",
      "           0       0.71      0.75      0.73      3605\n",
      "           1       0.72      0.68      0.70      3460\n",
      "\n",
      "    accuracy                           0.72      7065\n",
      "   macro avg       0.72      0.72      0.72      7065\n",
      "weighted avg       0.72      0.72      0.72      7065\n",
      "\n"
     ]
    }
   ],
   "source": [
    "#Se reportan las metricas para random forest\n",
    "yhat_rf = model_forest.predict(X_test)\n",
    "print(classification_report(y_test, yhat_rf))"
   ]
  },
  {
   "cell_type": "markdown",
   "id": "9e173468-e458-4d12-bc05-b6954624e0a8",
   "metadata": {},
   "source": [
    "Según la precisión obtenida, podemos decir que un 71% de las veces acertaremos en la predicción de la clase 0, en tanto un 72% en la clase 1. En cuanto a recall, se puede observar que el modelo identificará un 75% de las veces la clase 0 y un 68% la clase 1. Por último, acertaría en un 72% de las veces de acuerdo al accuracy. "
   ]
  },
  {
   "cell_type": "code",
   "execution_count": 145,
   "id": "9be99b2c-0f7c-43db-9e72-93880a83a5a0",
   "metadata": {},
   "outputs": [
    {
     "data": {
      "text/html": [
       "<div>\n",
       "<style scoped>\n",
       "    .dataframe tbody tr th:only-of-type {\n",
       "        vertical-align: middle;\n",
       "    }\n",
       "\n",
       "    .dataframe tbody tr th {\n",
       "        vertical-align: top;\n",
       "    }\n",
       "\n",
       "    .dataframe thead th {\n",
       "        text-align: right;\n",
       "    }\n",
       "</style>\n",
       "<table border=\"1\" class=\"dataframe\">\n",
       "  <thead>\n",
       "    <tr style=\"text-align: right;\">\n",
       "      <th>col_0</th>\n",
       "      <th>0</th>\n",
       "      <th>1</th>\n",
       "    </tr>\n",
       "    <tr>\n",
       "      <th>sentiment</th>\n",
       "      <th></th>\n",
       "      <th></th>\n",
       "    </tr>\n",
       "  </thead>\n",
       "  <tbody>\n",
       "    <tr>\n",
       "      <th>0</th>\n",
       "      <td>2706</td>\n",
       "      <td>899</td>\n",
       "    </tr>\n",
       "    <tr>\n",
       "      <th>1</th>\n",
       "      <td>1091</td>\n",
       "      <td>2369</td>\n",
       "    </tr>\n",
       "  </tbody>\n",
       "</table>\n",
       "</div>"
      ],
      "text/plain": [
       "col_0         0     1\n",
       "sentiment            \n",
       "0          2706   899\n",
       "1          1091  2369"
      ]
     },
     "execution_count": 145,
     "metadata": {},
     "output_type": "execute_result"
    }
   ],
   "source": [
    "#Se genera matriz de confusion\n",
    "pd.crosstab(y_test, yhat_rf)"
   ]
  },
  {
   "cell_type": "markdown",
   "id": "be52f80f-7d4f-4b94-bffc-4fe8bf98bb0b",
   "metadata": {},
   "source": [
    "La matriz de confusión presenta una buena tasa de verdaderos positivos y falsos negativos, en contraste con bajas tasas de falsos positivos y falsos negativos. "
   ]
  },
  {
   "cell_type": "code",
   "execution_count": 146,
   "id": "1e6f9bf0-81fe-4293-9f30-63d3c55f9b88",
   "metadata": {},
   "outputs": [
    {
     "data": {
      "text/plain": [
       "0.7176531070366302"
      ]
     },
     "execution_count": 146,
     "metadata": {},
     "output_type": "execute_result"
    }
   ],
   "source": [
    "#Se indica puntaje ROC\n",
    "roc_auc_score(y_test, yhat_rf)"
   ]
  },
  {
   "cell_type": "markdown",
   "id": "61138ec9-ea18-4edf-b309-ab11980b4beb",
   "metadata": {},
   "source": [
    "Con un valor de .71, este modelo tiene un desempeño de 21% superior a un mecanismo\n",
    "de clasificación aleatoria para predecir el tipo de sentimiento"
   ]
  },
  {
   "cell_type": "markdown",
   "id": "6f8fd483-e090-4f81-ae36-d49b3c13964e",
   "metadata": {},
   "source": [
    "# Logistic Regression"
   ]
  },
  {
   "cell_type": "code",
   "execution_count": 148,
   "id": "d51654e7-c4d1-482e-a082-a92012acc5d5",
   "metadata": {},
   "outputs": [],
   "source": [
    "#Se indica grilla de hiperparametros a probar\n",
    "param_grid_lg = {'C': [0.001, 0.01, 0.1, 1, 10, 100, 1000] }"
   ]
  },
  {
   "cell_type": "code",
   "execution_count": 179,
   "id": "0e9da6ee-7405-4f82-9beb-acea11428555",
   "metadata": {},
   "outputs": [],
   "source": [
    "#Se indica segunda grilla de hiperparametros a probar\n",
    "param_grid_lg2 = {'C': [0.05, 0.075, 0.1, 0.25, 0.5] }"
   ]
  },
  {
   "cell_type": "markdown",
   "id": "9f570e3c-b7af-416f-96f9-b8cd961144a3",
   "metadata": {},
   "source": [
    "Se asume que después de la aplicación de la segunda grilla, dificilmente se puedan seguir mejorando las métricas. "
   ]
  },
  {
   "cell_type": "code",
   "execution_count": 180,
   "id": "5b503d75-d4fe-44f4-bdb8-38f7e89ac3ca",
   "metadata": {},
   "outputs": [],
   "source": [
    "# Se aplica grilla con hiperparametros y entrenamiento\n",
    "lg_grid = GridSearchCV(LogisticRegression(penalty='l2'), param_grid_lg2, cv=5, n_jobs = -1).fit(X_train, y_train)"
   ]
  },
  {
   "cell_type": "code",
   "execution_count": 181,
   "id": "94cff6e7-9705-4929-b3f0-a4263e8c3899",
   "metadata": {},
   "outputs": [
    {
     "data": {
      "text/plain": [
       "{'C': 0.25}"
      ]
     },
     "execution_count": 181,
     "metadata": {},
     "output_type": "execute_result"
    }
   ],
   "source": [
    "#Se indica la mejor combinacion de hiperparametros para la regresión logística\n",
    "lg_grid.best_params_"
   ]
  },
  {
   "cell_type": "code",
   "execution_count": 182,
   "id": "457b0163-c805-4e65-b86d-c832b43a4578",
   "metadata": {},
   "outputs": [],
   "source": [
    "#Se entrena el modelo con la mejor selección de hiperparametros\n",
    "model_log = LogisticRegression(C =0.25, penalty = 'l2')\n",
    "model_lg = model_log.fit(X_train,y_train)"
   ]
  },
  {
   "cell_type": "code",
   "execution_count": 183,
   "id": "b0c03256-3787-487b-a98b-992d23582f8f",
   "metadata": {},
   "outputs": [
    {
     "name": "stdout",
     "output_type": "stream",
     "text": [
      "              precision    recall  f1-score   support\n",
      "\n",
      "           0       0.72      0.76      0.74      3605\n",
      "           1       0.73      0.69      0.71      3460\n",
      "\n",
      "    accuracy                           0.73      7065\n",
      "   macro avg       0.73      0.73      0.73      7065\n",
      "weighted avg       0.73      0.73      0.73      7065\n",
      "\n"
     ]
    }
   ],
   "source": [
    "#Se reportan las metricas para la regresión logística\n",
    "yhat_log = model_lg.predict(X_test)\n",
    "print(classification_report(y_test, yhat_log))"
   ]
  },
  {
   "cell_type": "markdown",
   "id": "09351aa2-88cb-4640-94d2-a9652be2b5ff",
   "metadata": {},
   "source": [
    "Según la precisión obtenida, podemos decir que un 72% de las veces acertaremos en la predicción de la clase 0, en tanto un 73% en la clase 1. En cuanto a recall, se puede observar que el modelo identificará un 76% de las veces la clase 0 y un 69% la clase 1. "
   ]
  },
  {
   "cell_type": "code",
   "execution_count": 184,
   "id": "e2601524-97ed-449c-a6ee-c0a5c632d91c",
   "metadata": {},
   "outputs": [
    {
     "data": {
      "text/html": [
       "<div>\n",
       "<style scoped>\n",
       "    .dataframe tbody tr th:only-of-type {\n",
       "        vertical-align: middle;\n",
       "    }\n",
       "\n",
       "    .dataframe tbody tr th {\n",
       "        vertical-align: top;\n",
       "    }\n",
       "\n",
       "    .dataframe thead th {\n",
       "        text-align: right;\n",
       "    }\n",
       "</style>\n",
       "<table border=\"1\" class=\"dataframe\">\n",
       "  <thead>\n",
       "    <tr style=\"text-align: right;\">\n",
       "      <th>col_0</th>\n",
       "      <th>0</th>\n",
       "      <th>1</th>\n",
       "    </tr>\n",
       "    <tr>\n",
       "      <th>sentiment</th>\n",
       "      <th></th>\n",
       "      <th></th>\n",
       "    </tr>\n",
       "  </thead>\n",
       "  <tbody>\n",
       "    <tr>\n",
       "      <th>0</th>\n",
       "      <td>2731</td>\n",
       "      <td>874</td>\n",
       "    </tr>\n",
       "    <tr>\n",
       "      <th>1</th>\n",
       "      <td>1058</td>\n",
       "      <td>2402</td>\n",
       "    </tr>\n",
       "  </tbody>\n",
       "</table>\n",
       "</div>"
      ],
      "text/plain": [
       "col_0         0     1\n",
       "sentiment            \n",
       "0          2731   874\n",
       "1          1058  2402"
      ]
     },
     "execution_count": 184,
     "metadata": {},
     "output_type": "execute_result"
    }
   ],
   "source": [
    "#Se genera matriz de confusion\n",
    "pd.crosstab(y_test, yhat_log)"
   ]
  },
  {
   "cell_type": "markdown",
   "id": "faffd122-d925-4549-91ed-54cf2c592cd7",
   "metadata": {},
   "source": [
    "La matriz de confusión presenta una buena tasa de verdaderos positivos y falsos negativos, en contraste con bajas tasas de falsos positivos y falsos negativos. Los resultados de la matriz de confusión son buenos y similares al de AdaBoosting."
   ]
  },
  {
   "cell_type": "code",
   "execution_count": 185,
   "id": "2f8f5a6b-7fa7-48d4-85c6-d86143aa750a",
   "metadata": {},
   "outputs": [
    {
     "data": {
      "text/plain": [
       "0.7258892995438256"
      ]
     },
     "execution_count": 185,
     "metadata": {},
     "output_type": "execute_result"
    }
   ],
   "source": [
    "#Se indica puntaje ROC\n",
    "roc_auc_score(y_test, yhat_log)"
   ]
  },
  {
   "cell_type": "markdown",
   "id": "9213e50b-6b5f-492a-9b8b-9321d4e8eaea",
   "metadata": {},
   "source": [
    "Con un valor de .72, este modelo tiene un desempeño de 22% superior a un mecanismo\n",
    "de clasificación aleatoria para predecir el tipo de sentimiento"
   ]
  },
  {
   "cell_type": "code",
   "execution_count": 218,
   "id": "fb3f2991-ea23-448b-9142-55dd27824efd",
   "metadata": {},
   "outputs": [],
   "source": [
    "#Se serializa el modelo\n",
    "pickle.dump(model_log,open('model_log.sav','wb'))"
   ]
  },
  {
   "cell_type": "markdown",
   "id": "2fea5708-da2d-4d8e-8019-d6faa4434979",
   "metadata": {},
   "source": [
    "# Comparativa de modelos"
   ]
  },
  {
   "cell_type": "markdown",
   "id": "86a66c85-d793-4f4f-9116-55ede7649bd4",
   "metadata": {},
   "source": [
    "|Métrica|Bayes Ingenuo|Ada Boosting|Gradient Boosting|Random Forest|Regresión logística|\n",
    "|-------|-------------|------------|-----------------|-------------|-------------------|\n",
    "|Precision|0.72|0.72|0.73|0.72|0.73|\n",
    "|Recall|0.72|0.71|0.72|0.72|0.73|\n",
    "|Accuracy|0.72|0.71|0.72|0.72|0.73|\n",
    "|Puntaje ROC|0.72|0.71|0.72|0.72|0.73|"
   ]
  },
  {
   "cell_type": "markdown",
   "id": "39ae582b-28ad-42b9-81f2-ae45e1ebb1fa",
   "metadata": {},
   "source": [
    "### En general los modelos entrenados presentan desempeños regulares. Observando la tabla, no hay duda de que el algoritmo Regresión logística es el que obtiene las mejores métricas, por tanto sería el mejor modelo para determinar el tipo de sentimiento asociado a un tweet. En tanto, la discusión entre cual es el segundo mejor algoritmo se da entre Bayes Ingenuo y Gradient Boosting, sin embargo la precisión de Gradient Boosting es ligeramente superior lo que le da la ventaja como un mejor clasificador. Se serializan en la carpeta del desafío ambos modelos.   "
   ]
  }
 ],
 "metadata": {
  "kernelspec": {
   "display_name": "Python 3",
   "language": "python",
   "name": "python3"
  },
  "language_info": {
   "codemirror_mode": {
    "name": "ipython",
    "version": 3
   },
   "file_extension": ".py",
   "mimetype": "text/x-python",
   "name": "python",
   "nbconvert_exporter": "python",
   "pygments_lexer": "ipython3",
   "version": "3.8.8"
  }
 },
 "nbformat": 4,
 "nbformat_minor": 5
}
