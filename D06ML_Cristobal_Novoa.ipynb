{
 "cells": [
  {
   "cell_type": "markdown",
   "metadata": {},
   "source": [
    "Desafio realizado por Cristobal Novoa"
   ]
  },
  {
   "cell_type": "markdown",
   "metadata": {},
   "source": [
    "# Desafío - Inferencia de tópicos con EM\n",
    "\n",
    "● Para realizar este desafío debes haber estudiado previamente todo el material\n",
    "disponibilizado correspondiente a la unidad.\n",
    "\n",
    "● Una vez terminado el desafío, comprime la carpeta que contiene el desarrollo de los\n",
    "requerimientos solicitados y sube el .zip en el LMS.\n",
    "\n",
    "● Desarrollo desafío:\n",
    "\n",
    "○ El desafío se debe desarrollar de manera Individual.\n",
    "\n",
    "○ Para la realización del desafío necesitarás apoyarte del archivo Apoyo Desafío -\n",
    "Inferencia de tópicos con EM."
   ]
  },
  {
   "cell_type": "markdown",
   "metadata": {},
   "source": [
    "# Requerimientos\n",
    "\n",
    "● En esta sesión trabajaremos con una serie de base de datos sobre letras musicales de\n",
    "distintos artistas. Cada uno de los csv se encuentra en la carpeta dump.\n",
    "\n",
    "● Cada csv tiene el nombre del artista a analizar. Los archivos contienen el nombre del\n",
    "artista, el género musical del artista, el nombre de la canción y las letras.\n",
    "\n",
    "● En base a esta información, el objetivo del ejercicio es generar un modelo probabilístico\n",
    "que pueda identificar el género musical más probable dado la letra de una canción.\n",
    "\n",
    "● Para ello implementaremos un modelo conocido como Latent Dirichlet Allocation que\n",
    "hace uso de una variante del algoritmo EM para inferir clases latentes a partir de una\n",
    "matriz de documentos."
   ]
  },
  {
   "cell_type": "markdown",
   "metadata": {},
   "source": [
    "# Ejercicio 1: Preparar el ambiente de trabajo\n",
    "\n",
    "● Importe los módulos numpy, pandas, matplotlib, seaborn, glob y os siguiendo las\n",
    "buenas prácticas. Los últimos dos módulos permitirán realizar la importación de\n",
    "múltiples archivos dentro de la carpeta dump.\n",
    "\n",
    "● Para ello genere un objeto que guarde en una lista todos los archivos alojados en dump\n",
    "utilizando glob.glob y os.getcwd() para extraer las rutas absolutas. Posteriormente\n",
    "genere un objeto pd.DataFrame que contenga todos los csv.\n",
    "\n",
    "● Asegúrese de eliminar la columna Unnamed: 0 que se genera por defecto."
   ]
  },
  {
   "cell_type": "code",
   "execution_count": 89,
   "metadata": {},
   "outputs": [],
   "source": [
    "# añadimos las librerías clásicas\n",
    "import numpy as np\n",
    "import pandas as pd\n",
    "import matplotlib.pyplot as plt\n",
    "import seaborn as sns\n",
    "plt.style.use('seaborn')\n",
    "plt.rcParams['figure.figsize'] = (10, 6)\n",
    "import glob\n",
    "import os"
   ]
  },
  {
   "cell_type": "code",
   "execution_count": 90,
   "metadata": {},
   "outputs": [],
   "source": [
    "cwd = os.getcwd()#Se genera string inicial rutas\n",
    "lista_csv = glob.glob(str(cwd)+'/dump/*.csv')#Se generan rutas relativas\n",
    "frames = [pd.read_csv(f) for f in lista_csv]# Se lee cada csv\n",
    "result = pd.concat(frames, sort = False).drop(['Unnamed: 0'], axis=1)# Se concatenan dataframes\n",
    "df = pd.DataFrame(result) #Se genera dataframe "
   ]
  },
  {
   "cell_type": "code",
   "execution_count": 91,
   "metadata": {},
   "outputs": [
    {
     "data": {
      "text/plain": [
       "Index(['0', '1', '2', '3'], dtype='object')"
      ]
     },
     "execution_count": 91,
     "metadata": {},
     "output_type": "execute_result"
    }
   ],
   "source": [
    "df.columns # Se revisan las columnas para cambiar sus nombre"
   ]
  },
  {
   "cell_type": "code",
   "execution_count": 92,
   "metadata": {},
   "outputs": [],
   "source": [
    "df = df.rename(columns={'0':'artist', '1':'musical_genre', '2': 'song', '3': 'lyrics'})#Cambio de nombres"
   ]
  },
  {
   "cell_type": "code",
   "execution_count": 93,
   "metadata": {},
   "outputs": [
    {
     "data": {
      "text/html": [
       "<div>\n",
       "<style scoped>\n",
       "    .dataframe tbody tr th:only-of-type {\n",
       "        vertical-align: middle;\n",
       "    }\n",
       "\n",
       "    .dataframe tbody tr th {\n",
       "        vertical-align: top;\n",
       "    }\n",
       "\n",
       "    .dataframe thead th {\n",
       "        text-align: right;\n",
       "    }\n",
       "</style>\n",
       "<table border=\"1\" class=\"dataframe\">\n",
       "  <thead>\n",
       "    <tr style=\"text-align: right;\">\n",
       "      <th></th>\n",
       "      <th>artist</th>\n",
       "      <th>musical_genre</th>\n",
       "      <th>song</th>\n",
       "      <th>lyrics</th>\n",
       "    </tr>\n",
       "  </thead>\n",
       "  <tbody>\n",
       "    <tr>\n",
       "      <th>0</th>\n",
       "      <td>Anthrax</td>\n",
       "      <td>metal</td>\n",
       "      <td>Deathrider</td>\n",
       "      <td>Riding hard, high in the saddle \\n Winged stee...</td>\n",
       "    </tr>\n",
       "    <tr>\n",
       "      <th>1</th>\n",
       "      <td>Anthrax</td>\n",
       "      <td>metal</td>\n",
       "      <td>Metal Thrashing Mad</td>\n",
       "      <td>Racing down the road \\n In a street machine of...</td>\n",
       "    </tr>\n",
       "    <tr>\n",
       "      <th>2</th>\n",
       "      <td>Anthrax</td>\n",
       "      <td>metal</td>\n",
       "      <td>I'm Eighteen</td>\n",
       "      <td>Lines form on my face and hands \\n Lines form ...</td>\n",
       "    </tr>\n",
       "    <tr>\n",
       "      <th>3</th>\n",
       "      <td>Anthrax</td>\n",
       "      <td>metal</td>\n",
       "      <td>Panic</td>\n",
       "      <td>Move it to the front \\n Reaching for the light...</td>\n",
       "    </tr>\n",
       "    <tr>\n",
       "      <th>4</th>\n",
       "      <td>Anthrax</td>\n",
       "      <td>metal</td>\n",
       "      <td>Subjugator</td>\n",
       "      <td>Out in the streets \\n We're fighting tonight \\...</td>\n",
       "    </tr>\n",
       "  </tbody>\n",
       "</table>\n",
       "</div>"
      ],
      "text/plain": [
       "    artist musical_genre                 song  \\\n",
       "0  Anthrax         metal           Deathrider   \n",
       "1  Anthrax         metal  Metal Thrashing Mad   \n",
       "2  Anthrax         metal         I'm Eighteen   \n",
       "3  Anthrax         metal                Panic   \n",
       "4  Anthrax         metal           Subjugator   \n",
       "\n",
       "                                              lyrics  \n",
       "0  Riding hard, high in the saddle \\n Winged stee...  \n",
       "1  Racing down the road \\n In a street machine of...  \n",
       "2  Lines form on my face and hands \\n Lines form ...  \n",
       "3  Move it to the front \\n Reaching for the light...  \n",
       "4  Out in the streets \\n We're fighting tonight \\...  "
      ]
     },
     "execution_count": 93,
     "metadata": {},
     "output_type": "execute_result"
    }
   ],
   "source": [
    "df.head()"
   ]
  },
  {
   "cell_type": "markdown",
   "metadata": {},
   "source": [
    "# Ejercicio 2: Matriz de ocurrencias\n",
    "\n",
    "● Importe la clase CountVectorizer dentro de los módulos feature_extraction.text\n",
    "de la librería sklearn.\n",
    "\n",
    "● Aplique la clase para extraer las 5000 palabras más repetidas en toda la base de datos.\n",
    "\n",
    "● Con la clase inicializada, incorpore las letras con el método fit_transform y guarde los\n",
    "resultados en un nuevo objeto."
   ]
  },
  {
   "cell_type": "code",
   "execution_count": 94,
   "metadata": {},
   "outputs": [],
   "source": [
    "# Se importa el metodo CountVectorizer\n",
    "from sklearn.feature_extraction.text import CountVectorizer"
   ]
  },
  {
   "cell_type": "code",
   "execution_count": 95,
   "metadata": {},
   "outputs": [],
   "source": [
    "count_vectorizer=CountVectorizer(stop_words='english', max_features = 5000)\n",
    "count_vectorizer_fit = count_vectorizer.fit_transform(df['lyrics'])\n",
    "words = count_vectorizer.get_feature_names()\n",
    "words_freq = count_vectorizer_fit.toarray().sum(axis=0)"
   ]
  },
  {
   "cell_type": "code",
   "execution_count": 96,
   "metadata": {},
   "outputs": [
    {
     "data": {
      "text/plain": [
       "(5000, 1)"
      ]
     },
     "execution_count": 96,
     "metadata": {},
     "output_type": "execute_result"
    }
   ],
   "source": [
    "df_top_words = pd.DataFrame(data= {'freq': words_freq}, index = words)\n",
    "by_freq = df_top_words.sort_values('freq',ascending = False)\n",
    "by_freq.shape"
   ]
  },
  {
   "cell_type": "code",
   "execution_count": 97,
   "metadata": {},
   "outputs": [
    {
     "data": {
      "text/html": [
       "<div>\n",
       "<style scoped>\n",
       "    .dataframe tbody tr th:only-of-type {\n",
       "        vertical-align: middle;\n",
       "    }\n",
       "\n",
       "    .dataframe tbody tr th {\n",
       "        vertical-align: top;\n",
       "    }\n",
       "\n",
       "    .dataframe thead th {\n",
       "        text-align: right;\n",
       "    }\n",
       "</style>\n",
       "<table border=\"1\" class=\"dataframe\">\n",
       "  <thead>\n",
       "    <tr style=\"text-align: right;\">\n",
       "      <th></th>\n",
       "      <th>freq</th>\n",
       "    </tr>\n",
       "  </thead>\n",
       "  <tbody>\n",
       "    <tr>\n",
       "      <th>like</th>\n",
       "      <td>19629</td>\n",
       "    </tr>\n",
       "    <tr>\n",
       "      <th>don</th>\n",
       "      <td>17398</td>\n",
       "    </tr>\n",
       "    <tr>\n",
       "      <th>know</th>\n",
       "      <td>14962</td>\n",
       "    </tr>\n",
       "    <tr>\n",
       "      <th>got</th>\n",
       "      <td>14171</td>\n",
       "    </tr>\n",
       "    <tr>\n",
       "      <th>just</th>\n",
       "      <td>13978</td>\n",
       "    </tr>\n",
       "    <tr>\n",
       "      <th>love</th>\n",
       "      <td>11268</td>\n",
       "    </tr>\n",
       "    <tr>\n",
       "      <th>yeah</th>\n",
       "      <td>11071</td>\n",
       "    </tr>\n",
       "    <tr>\n",
       "      <th>ll</th>\n",
       "      <td>10028</td>\n",
       "    </tr>\n",
       "    <tr>\n",
       "      <th>oh</th>\n",
       "      <td>9879</td>\n",
       "    </tr>\n",
       "    <tr>\n",
       "      <th>cause</th>\n",
       "      <td>8356</td>\n",
       "    </tr>\n",
       "  </tbody>\n",
       "</table>\n",
       "</div>"
      ],
      "text/plain": [
       "        freq\n",
       "like   19629\n",
       "don    17398\n",
       "know   14962\n",
       "got    14171\n",
       "just   13978\n",
       "love   11268\n",
       "yeah   11071\n",
       "ll     10028\n",
       "oh      9879\n",
       "cause   8356"
      ]
     },
     "execution_count": 97,
     "metadata": {},
     "output_type": "execute_result"
    }
   ],
   "source": [
    "#Se genera dataframe para mostrar las 10 palabras mas frecuentes\n",
    "by_freq.head(10)"
   ]
  },
  {
   "cell_type": "markdown",
   "metadata": {},
   "source": [
    "# Ejercicio 3: Entrenamiento del Modelo\n",
    "\n",
    "● Importe sklearn.decomposition.LatentDirichletAllocation y\n",
    "sklearn.model_selection.GridSearchCV.\n",
    "\n",
    "● Genere una búsqueda de grilla con los siguientes hiper parámetros:\n",
    "\n",
    "○ n_components: [5, 10, 15].\n",
    "\n",
    "○ learning_decay: [0.7, 0.5].\n",
    "\n",
    "● Entrene la búsqueda de grilla con las letras en un formato vectorizado con\n",
    "CountVectorizer.\n",
    "\n",
    "● Reporte brevemente cuál es la mejor combinación de hiper parámetros.\n",
    "Digresión: Latent Dirichlet Allocation\n",
    "\n",
    "Latent Dirichlet Allocatio (LDA) es un modelo probabilístico generativo basado en Inferencia\n",
    "Variacional EM. La principal utilidad de esto es la identificación de tópicos en un corpus de\n",
    "texto. El proceso de inferencia se puede resumir en los siguientes pasos:\n",
    "\n",
    "● Cada documento dentro del corpus se puede entender como una mezcla de tópicos\n",
    "comunes a nivel de corpus.\n",
    "\n",
    "● Esta mezcla de tópicos es latente: sólo observamos los documentos registrados y sus\n",
    "palabras.\n",
    "\n",
    "La API de sklearn.decomposition.LatentDirichletAllocation presenta la misma\n",
    "funcionalidad de todo modelo de sklearn. Algunos puntos a considerar en la\n",
    "inicialización de la clase son:\n",
    "\n",
    "○ n_components: Cantidad de tópicos a inferir en un corpus.\n",
    "\n",
    "○ learning_method: Forma en la que entran los datos en entrenamiento. Cuando\n",
    "es 'batch', se ingresa la matriz de entrenamiento completa. Cuando es 'online', la\n",
    "matriz de entrenamiento ingresa de manera secuencial en parcelas pequeñas.\n",
    "\n",
    "○ learning_decay: Tasa de aprendizaje en la función de pérdida. Cuando se\n",
    "implementa con learning_method='online', el modelo se entrena con\n",
    "Gradiente Estocástico Descendente.\n",
    "\n",
    "○ Perplejidad: Busca aproximar el número óptimo de tópicos a inferir.\n",
    "Técnicamente evalúa qué tan bien predice una muestra específica. En función a\n",
    "un número de tópicos, define la distribución teórica de palabras representada por\n",
    "los tópicos y la compara con la ocurrencia empírica de palabras en tópicos."
   ]
  },
  {
   "cell_type": "code",
   "execution_count": 98,
   "metadata": {},
   "outputs": [],
   "source": [
    "#Se importan librerias\n",
    "from sklearn.model_selection import GridSearchCV\n",
    "from sklearn.decomposition import LatentDirichletAllocation"
   ]
  },
  {
   "cell_type": "code",
   "execution_count": 99,
   "metadata": {},
   "outputs": [],
   "source": [
    "#Se genera Gridsearch para buscar los hiperparametros \n",
    "parameters = {'n_components':[5, 10, 15], 'learning_decay':[0.7, 0.5]}\n",
    "lda = LatentDirichletAllocation(learning_method = 'online', random_state = 4982, n_jobs = 1)\n",
    "clf = GridSearchCV(lda, param_grid= parameters)"
   ]
  },
  {
   "cell_type": "code",
   "execution_count": 100,
   "metadata": {},
   "outputs": [],
   "source": [
    "clf =  GridSearchCV(lda, param_grid= parameters )"
   ]
  },
  {
   "cell_type": "code",
   "execution_count": 101,
   "metadata": {},
   "outputs": [
    {
     "name": "stdout",
     "output_type": "stream",
     "text": [
      "Wall time: 27min 15s\n"
     ]
    },
    {
     "data": {
      "text/plain": [
       "GridSearchCV(estimator=LatentDirichletAllocation(learning_method='online',\n",
       "                                                 n_jobs=1, random_state=4982),\n",
       "             param_grid={'learning_decay': [0.7, 0.5],\n",
       "                         'n_components': [5, 10, 15]})"
      ]
     },
     "execution_count": 101,
     "metadata": {},
     "output_type": "execute_result"
    }
   ],
   "source": [
    "%%time\n",
    "clf.fit(count_vectorizer_fit)"
   ]
  },
  {
   "cell_type": "code",
   "execution_count": 102,
   "metadata": {},
   "outputs": [
    {
     "data": {
      "text/plain": [
       "{'learning_decay': 0.7, 'n_components': 5}"
      ]
     },
     "execution_count": 102,
     "metadata": {},
     "output_type": "execute_result"
    }
   ],
   "source": [
    "#Se indica la mejor combinacion de hiperparametros\n",
    "clf.best_params_"
   ]
  },
  {
   "cell_type": "markdown",
   "metadata": {},
   "source": [
    "# Ejercicio 4 : Inferencia e Identificación de Tópicos\n",
    "\n",
    "● En base a la mejor combinación de hiper parámetros, entrene el modelo con la matriz de\n",
    "atributos de las letras.\n",
    "\n",
    "● Para identificar de qué se trata cada tópico, necesitamos identificar las principales 15\n",
    "palabras asociadas con éste. Puede implementar la siguiente línea de código para\n",
    "identificar las principales palabras en un tópico:"
   ]
  },
  {
   "cell_type": "markdown",
   "metadata": {},
   "source": [
    "`for topic_id, topic_name in enumerate(fit_best_lda.components_):\n",
    "    print(\"tópico: {}\".format(topic_id + 1))\n",
    "    print(\" \".join([counter.get_feature_names()[i] for i in topic_name.argsort()[:-15 - 1: -1]]))`\n",
    "    \n",
    "● Comente a qué tópicos está asociada cada clase inferida."
   ]
  },
  {
   "cell_type": "code",
   "execution_count": 105,
   "metadata": {},
   "outputs": [],
   "source": [
    "#Se entrena el modelo en base a la mejor combinacion de hiperparametros\n",
    "lda = LatentDirichletAllocation(learning_method = 'online', random_state = 4982, n_jobs = 1, n_components=5, learning_decay=0.7 )\n",
    "fit_best_lda = lda.fit(count_vectorizer_fit)"
   ]
  },
  {
   "cell_type": "code",
   "execution_count": 106,
   "metadata": {},
   "outputs": [
    {
     "name": "stdout",
     "output_type": "stream",
     "text": [
      "tópico: 1\n",
      "life world god time die death eyes dead ll blood soul away light live pain\n",
      "tópico: 2\n",
      "oh song hey sun come home ll whoa away old morning days night like moment\n",
      "tópico: 3\n",
      "don love know just yeah got baby ll want like let ve gonna say way\n",
      "tópico: 4\n",
      "yeah fuck la rock like uh ha money roll let da say come girls just\n",
      "tópico: 5\n",
      "like got shit yo don ain nigga know man em cause just ya niggas bitch\n"
     ]
    }
   ],
   "source": [
    "#Se indican las 15 principales palabras por topico\n",
    "for topic_id, topic_name in enumerate(fit_best_lda.components_):\n",
    "    print(\"tópico: {}\".format(topic_id + 1))\n",
    "    print(\" \".join([count_vectorizer.get_feature_names()[i] for i in topic_name.argsort()[:-15 - 1: -1]]))"
   ]
  },
  {
   "cell_type": "markdown",
   "metadata": {},
   "source": [
    "El topico 1 esta asociado al genero musical metal en base a las palabras indicadas por la funcion como god, time , death, blood\n",
    "El topico 2 esta asociado al genero musical pop-rock con  palabras como song, sun, old, morning, moment\n",
    "El topico 3 esta asociado al genero pop con palabras como love, just, yeah, got, baby\n",
    "El topico 4 esta asociado al genero rock con palabras  como fuck, rock, like, money\n",
    "El topico 5 esta asociado al genero hip hop con palabras como shit, nigga, man, bitch.   "
   ]
  },
  {
   "cell_type": "markdown",
   "metadata": {},
   "source": [
    "# Ejercicio 5: Identificación de probabilidades\n",
    "\n",
    "● En base a la información generada, es posible identificar cuales van a ser los géneros\n",
    "más probables de ocurrir para un artista.\n",
    "\n",
    "● Para ello necesitamos guardar la probabilidad de cada canción en nuestra base de\n",
    "datos original. Podemos implementar esto de la siguiente manera:\n",
    "\n",
    "`fit_best_lda = best_lda.transform(transformed_feats)`\n",
    "`topics_for_each_doc = pd.DataFrame(np.round(fit_best_lda, 3),index=df_lyrics.index)`\n",
    "`topics_for_each_doc.columns = list(map(lambda x: \"T: {}\".format(x),range(1, best_lda.n_components + 1)))`\n",
    "`concatenated_df = pd.concat([df_lyrics, topics_for_each_doc], axis=1)`\n",
    "`concatenated_df['highest_topic'] = np.argmax(docs_topics.values, axis=1) + 1` \n",
    "\n",
    "● Genere una matriz de correlaciones entre la probabilidad de tópicos inferidos. Comente\n",
    "brevemente cuales son las principales asociaciones existentes.\n",
    "\n",
    "● Con esta nueva base de datos, identifique las probabilidades de pertenencia para un\n",
    "artista específico.\n",
    "\n",
    "● Grafique la distribución de las probabilidades para algún artista en específico."
   ]
  },
  {
   "cell_type": "code",
   "execution_count": 107,
   "metadata": {},
   "outputs": [],
   "source": [
    "#Se genera base de datos con probabilidades\n",
    "fit_best_lda = lda.transform(count_vectorizer_fit)\n",
    "topics_for_each_doc = pd.DataFrame(np.round(fit_best_lda, 3),index=df.index)\n",
    "topics_for_each_doc.columns = list(map(lambda x: \"T: {}\".format(x),range(1, lda.n_components + 1)))"
   ]
  },
  {
   "cell_type": "code",
   "execution_count": 108,
   "metadata": {},
   "outputs": [
    {
     "data": {
      "text/html": [
       "<div>\n",
       "<style scoped>\n",
       "    .dataframe tbody tr th:only-of-type {\n",
       "        vertical-align: middle;\n",
       "    }\n",
       "\n",
       "    .dataframe tbody tr th {\n",
       "        vertical-align: top;\n",
       "    }\n",
       "\n",
       "    .dataframe thead th {\n",
       "        text-align: right;\n",
       "    }\n",
       "</style>\n",
       "<table border=\"1\" class=\"dataframe\">\n",
       "  <thead>\n",
       "    <tr style=\"text-align: right;\">\n",
       "      <th></th>\n",
       "      <th>T: 1</th>\n",
       "      <th>T: 2</th>\n",
       "      <th>T: 3</th>\n",
       "      <th>T: 4</th>\n",
       "      <th>T: 5</th>\n",
       "    </tr>\n",
       "  </thead>\n",
       "  <tbody>\n",
       "    <tr>\n",
       "      <th>0</th>\n",
       "      <td>0.871</td>\n",
       "      <td>0.006</td>\n",
       "      <td>0.112</td>\n",
       "      <td>0.005</td>\n",
       "      <td>0.006</td>\n",
       "    </tr>\n",
       "    <tr>\n",
       "      <th>1</th>\n",
       "      <td>0.572</td>\n",
       "      <td>0.005</td>\n",
       "      <td>0.206</td>\n",
       "      <td>0.005</td>\n",
       "      <td>0.212</td>\n",
       "    </tr>\n",
       "    <tr>\n",
       "      <th>2</th>\n",
       "      <td>0.057</td>\n",
       "      <td>0.108</td>\n",
       "      <td>0.506</td>\n",
       "      <td>0.327</td>\n",
       "      <td>0.002</td>\n",
       "    </tr>\n",
       "    <tr>\n",
       "      <th>3</th>\n",
       "      <td>0.467</td>\n",
       "      <td>0.003</td>\n",
       "      <td>0.384</td>\n",
       "      <td>0.074</td>\n",
       "      <td>0.072</td>\n",
       "    </tr>\n",
       "    <tr>\n",
       "      <th>4</th>\n",
       "      <td>0.890</td>\n",
       "      <td>0.003</td>\n",
       "      <td>0.101</td>\n",
       "      <td>0.003</td>\n",
       "      <td>0.003</td>\n",
       "    </tr>\n",
       "  </tbody>\n",
       "</table>\n",
       "</div>"
      ],
      "text/plain": [
       "    T: 1   T: 2   T: 3   T: 4   T: 5\n",
       "0  0.871  0.006  0.112  0.005  0.006\n",
       "1  0.572  0.005  0.206  0.005  0.212\n",
       "2  0.057  0.108  0.506  0.327  0.002\n",
       "3  0.467  0.003  0.384  0.074  0.072\n",
       "4  0.890  0.003  0.101  0.003  0.003"
      ]
     },
     "execution_count": 108,
     "metadata": {},
     "output_type": "execute_result"
    }
   ],
   "source": [
    "topics_for_each_doc.head()"
   ]
  },
  {
   "cell_type": "code",
   "execution_count": 109,
   "metadata": {},
   "outputs": [],
   "source": [
    "concatenated_df = pd.concat([df, topics_for_each_doc], axis=1)\n",
    "#Buscando el topico con probabilidad mas alta en la matriz de topicos\n",
    "concatenated_df['highest_topic'] = np.argmax(topics_for_each_doc.values, axis=1) + 1 "
   ]
  },
  {
   "cell_type": "code",
   "execution_count": 110,
   "metadata": {},
   "outputs": [
    {
     "data": {
      "text/html": [
       "<div>\n",
       "<style scoped>\n",
       "    .dataframe tbody tr th:only-of-type {\n",
       "        vertical-align: middle;\n",
       "    }\n",
       "\n",
       "    .dataframe tbody tr th {\n",
       "        vertical-align: top;\n",
       "    }\n",
       "\n",
       "    .dataframe thead th {\n",
       "        text-align: right;\n",
       "    }\n",
       "</style>\n",
       "<table border=\"1\" class=\"dataframe\">\n",
       "  <thead>\n",
       "    <tr style=\"text-align: right;\">\n",
       "      <th></th>\n",
       "      <th>artist</th>\n",
       "      <th>musical_genre</th>\n",
       "      <th>song</th>\n",
       "      <th>lyrics</th>\n",
       "      <th>T: 1</th>\n",
       "      <th>T: 2</th>\n",
       "      <th>T: 3</th>\n",
       "      <th>T: 4</th>\n",
       "      <th>T: 5</th>\n",
       "      <th>highest_topic</th>\n",
       "    </tr>\n",
       "  </thead>\n",
       "  <tbody>\n",
       "    <tr>\n",
       "      <th>0</th>\n",
       "      <td>Anthrax</td>\n",
       "      <td>metal</td>\n",
       "      <td>Deathrider</td>\n",
       "      <td>Riding hard, high in the saddle \\n Winged stee...</td>\n",
       "      <td>0.871</td>\n",
       "      <td>0.006</td>\n",
       "      <td>0.112</td>\n",
       "      <td>0.005</td>\n",
       "      <td>0.006</td>\n",
       "      <td>1</td>\n",
       "    </tr>\n",
       "    <tr>\n",
       "      <th>1</th>\n",
       "      <td>Anthrax</td>\n",
       "      <td>metal</td>\n",
       "      <td>Metal Thrashing Mad</td>\n",
       "      <td>Racing down the road \\n In a street machine of...</td>\n",
       "      <td>0.572</td>\n",
       "      <td>0.005</td>\n",
       "      <td>0.206</td>\n",
       "      <td>0.005</td>\n",
       "      <td>0.212</td>\n",
       "      <td>1</td>\n",
       "    </tr>\n",
       "    <tr>\n",
       "      <th>2</th>\n",
       "      <td>Anthrax</td>\n",
       "      <td>metal</td>\n",
       "      <td>I'm Eighteen</td>\n",
       "      <td>Lines form on my face and hands \\n Lines form ...</td>\n",
       "      <td>0.057</td>\n",
       "      <td>0.108</td>\n",
       "      <td>0.506</td>\n",
       "      <td>0.327</td>\n",
       "      <td>0.002</td>\n",
       "      <td>3</td>\n",
       "    </tr>\n",
       "    <tr>\n",
       "      <th>3</th>\n",
       "      <td>Anthrax</td>\n",
       "      <td>metal</td>\n",
       "      <td>Panic</td>\n",
       "      <td>Move it to the front \\n Reaching for the light...</td>\n",
       "      <td>0.467</td>\n",
       "      <td>0.003</td>\n",
       "      <td>0.384</td>\n",
       "      <td>0.074</td>\n",
       "      <td>0.072</td>\n",
       "      <td>1</td>\n",
       "    </tr>\n",
       "    <tr>\n",
       "      <th>4</th>\n",
       "      <td>Anthrax</td>\n",
       "      <td>metal</td>\n",
       "      <td>Subjugator</td>\n",
       "      <td>Out in the streets \\n We're fighting tonight \\...</td>\n",
       "      <td>0.890</td>\n",
       "      <td>0.003</td>\n",
       "      <td>0.101</td>\n",
       "      <td>0.003</td>\n",
       "      <td>0.003</td>\n",
       "      <td>1</td>\n",
       "    </tr>\n",
       "  </tbody>\n",
       "</table>\n",
       "</div>"
      ],
      "text/plain": [
       "    artist musical_genre                 song  \\\n",
       "0  Anthrax         metal           Deathrider   \n",
       "1  Anthrax         metal  Metal Thrashing Mad   \n",
       "2  Anthrax         metal         I'm Eighteen   \n",
       "3  Anthrax         metal                Panic   \n",
       "4  Anthrax         metal           Subjugator   \n",
       "\n",
       "                                              lyrics   T: 1   T: 2   T: 3  \\\n",
       "0  Riding hard, high in the saddle \\n Winged stee...  0.871  0.006  0.112   \n",
       "1  Racing down the road \\n In a street machine of...  0.572  0.005  0.206   \n",
       "2  Lines form on my face and hands \\n Lines form ...  0.057  0.108  0.506   \n",
       "3  Move it to the front \\n Reaching for the light...  0.467  0.003  0.384   \n",
       "4  Out in the streets \\n We're fighting tonight \\...  0.890  0.003  0.101   \n",
       "\n",
       "    T: 4   T: 5  highest_topic  \n",
       "0  0.005  0.006              1  \n",
       "1  0.005  0.212              1  \n",
       "2  0.327  0.002              3  \n",
       "3  0.074  0.072              1  \n",
       "4  0.003  0.003              1  "
      ]
     },
     "execution_count": 110,
     "metadata": {},
     "output_type": "execute_result"
    }
   ],
   "source": [
    "#Se muestra base de datos concatenada\n",
    "concatenated_df.head()"
   ]
  },
  {
   "cell_type": "code",
   "execution_count": 111,
   "metadata": {},
   "outputs": [
    {
     "data": {
      "text/plain": [
       "<AxesSubplot:>"
      ]
     },
     "execution_count": 111,
     "metadata": {},
     "output_type": "execute_result"
    },
    {
     "data": {
      "image/png": "[encoded data removed]",
      "text/plain": [
       "<Figure size 720x432 with 2 Axes>"
      ]
     },
     "metadata": {},
     "output_type": "display_data"
    }
   ],
   "source": [
    "#Se genera matriz de correlaciones entre topicos\n",
    "corr = topics_for_each_doc.corr()\n",
    "sns.heatmap(data =corr, annot= True)"
   ]
  },
  {
   "cell_type": "markdown",
   "metadata": {},
   "source": [
    "Las principales correlaciones son entre el topico 3 y 5 y entre el topico 1 y 3, aunque en general las correlaciones tienen valores bastante bajos, lo que indica que muestra una indepencia clara entre los topicos.  "
   ]
  },
  {
   "cell_type": "code",
   "execution_count": 112,
   "metadata": {},
   "outputs": [
    {
     "data": {
      "text/plain": [
       "Index(['artist', 'musical_genre', 'song', 'lyrics', 'T: 1', 'T: 2', 'T: 3',\n",
       "       'T: 4', 'T: 5', 'highest_topic'],\n",
       "      dtype='object')"
      ]
     },
     "execution_count": 112,
     "metadata": {},
     "output_type": "execute_result"
    }
   ],
   "source": [
    "concatenated_df.columns"
   ]
  },
  {
   "cell_type": "code",
   "execution_count": 113,
   "metadata": {},
   "outputs": [],
   "source": [
    "#Se identifican probabilidades de pertenencia para Anthrax\n",
    "set_ant = concatenated_df[concatenated_df['artist'] == 'Anthrax']"
   ]
  },
  {
   "cell_type": "code",
   "execution_count": 114,
   "metadata": {},
   "outputs": [
    {
     "data": {
      "text/plain": [
       "1    0.56\n",
       "3    0.25\n",
       "2    0.07\n",
       "4    0.06\n",
       "5    0.05\n",
       "Name: highest_topic, dtype: float64"
      ]
     },
     "execution_count": 114,
     "metadata": {},
     "output_type": "execute_result"
    }
   ],
   "source": [
    "#Se reportan probabilidades de pertenencia para Anthrax\n",
    "group_topic= set_ant['highest_topic'].value_counts('%').round(2)\n",
    "group_topic"
   ]
  },
  {
   "cell_type": "code",
   "execution_count": 115,
   "metadata": {},
   "outputs": [
    {
     "data": {
      "text/plain": [
       "Text(0.5, 1.0, 'Distribucion de probabilidades Anthrax')"
      ]
     },
     "execution_count": 115,
     "metadata": {},
     "output_type": "execute_result"
    },
    {
     "data": {
      "image/png": "[encoded data removed]",
      "text/plain": [
       "<Figure size 720x432 with 1 Axes>"
      ]
     },
     "metadata": {},
     "output_type": "display_data"
    }
   ],
   "source": [
    "#Se genera grafica de distribucion de probabilidades para Anthrax\n",
    "group_topic.plot.bar()\n",
    "plt.title('Distribucion de probabilidades Anthrax')"
   ]
  },
  {
   "cell_type": "code",
   "execution_count": null,
   "metadata": {},
   "outputs": [],
   "source": []
  },
  {
   "cell_type": "code",
   "execution_count": null,
   "metadata": {},
   "outputs": [],
   "source": []
  }
 ],
 "metadata": {
  "kernelspec": {
   "display_name": "Python 3",
   "language": "python",
   "name": "python3"
  },
  "language_info": {
   "codemirror_mode": {
    "name": "ipython",
    "version": 3
   },
   "file_extension": ".py",
   "mimetype": "text/x-python",
   "name": "python",
   "nbconvert_exporter": "python",
   "pygments_lexer": "ipython3",
   "version": "3.8.8"
  }
 },
 "nbformat": 4,
 "nbformat_minor": 4
}
