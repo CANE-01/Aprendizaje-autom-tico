{
 "cells": [
  {
   "cell_type": "markdown",
   "metadata": {},
   "source": [
    "Desafio realizado por Cristobal Novoa"
   ]
  },
  {
   "cell_type": "markdown",
   "metadata": {},
   "source": [
    "# Desafío - Random Forest\n",
    "\n",
    "● Para realizar este desafío debes haber estudiado previamente todo el material\n",
    "disponibilizado correspondiente a la unidad.\n",
    "\n",
    "● Una vez terminado el desafío, comprime la carpeta que contiene el desarrollo de los\n",
    "requerimientos solicitados y sube el .zip en el LMS.\n",
    "\n",
    "● Desarrollo desafío:\n",
    "\n",
    "○ El desafío se debe desarrollar de manera Individual.\n",
    "\n",
    "○ Para la realización del desafío necesitarás apoyarte del archivo Apoyo Desafío -\n",
    "Random Forest"
   ]
  },
  {
   "cell_type": "markdown",
   "metadata": {},
   "source": [
    "# Requerimientos\n",
    "\n",
    "● Para esta sesión trabajaremos con una base de datos sobre los precios de inmuebles en\n",
    "la ciudad de Ames, Iowa. La base se compone de 2930 registros y contiene un gran\n",
    "número de atributos.\n",
    "\n",
    "● Nuestro objetivo es generar un modelo que prediga de forma adecuada los precios de\n",
    "inmuebles, medidos con la variable Sale_Price.\n",
    "\n",
    "● A diferencia de otras sesiones donde implementamos el preprocesamiento a mano,\n",
    "ahora haremos uso de los archivos serializados en la sesión pasada"
   ]
  },
  {
   "cell_type": "markdown",
   "metadata": {},
   "source": [
    "# Ejercicio 1: Preparación del ambiente de trabajo\n",
    "\n",
    "● Importe las librerías clásicas a utilizar.\n",
    "\n",
    "● Para este ejercicio Random Forest de Regresión\n",
    "\n",
    "● De manera adicional importe las funciones y clases necesarias para generar un\n",
    "desempeño de métricas en problemas de regresión.\n",
    "\n",
    "● Elimine la columna 'Unnamed: 0' cuando cargue los datos."
   ]
  },
  {
   "cell_type": "code",
   "execution_count": 2,
   "metadata": {},
   "outputs": [],
   "source": [
    "%config IPCompleter.greedy = True"
   ]
  },
  {
   "cell_type": "code",
   "execution_count": 3,
   "metadata": {},
   "outputs": [],
   "source": [
    "#Importacion de librerias\n",
    "import pandas as pd \n",
    "import seaborn as sns\n",
    "import numpy as np\n",
    "import matplotlib.pyplot as plt\n",
    "from IPython.display import Image\n",
    "plt.rcParams['figure.figsize'] = (10, 6)\n",
    "from sklearn.model_selection import train_test_split\n",
    "from sklearn.tree import DecisionTreeRegressor\n",
    "from sklearn.model_selection import GridSearchCV\n",
    "from sklearn.ensemble import RandomForestRegressor\n",
    "from sklearn.metrics import mean_squared_error, median_absolute_error,r2_score"
   ]
  },
  {
   "cell_type": "code",
   "execution_count": 4,
   "metadata": {},
   "outputs": [
    {
     "data": {
      "text/plain": [
       "(2930, 81)"
      ]
     },
     "execution_count": 4,
     "metadata": {},
     "output_type": "execute_result"
    }
   ],
   "source": [
    "#Se carga csv\n",
    "df = pd.read_csv('ames_housing.csv').drop(['Unnamed: 0'], axis=1)\n",
    "df.shape"
   ]
  },
  {
   "cell_type": "code",
   "execution_count": 5,
   "metadata": {},
   "outputs": [
    {
     "data": {
      "text/html": [
       "<div>\n",
       "<style scoped>\n",
       "    .dataframe tbody tr th:only-of-type {\n",
       "        vertical-align: middle;\n",
       "    }\n",
       "\n",
       "    .dataframe tbody tr th {\n",
       "        vertical-align: top;\n",
       "    }\n",
       "\n",
       "    .dataframe thead th {\n",
       "        text-align: right;\n",
       "    }\n",
       "</style>\n",
       "<table border=\"1\" class=\"dataframe\">\n",
       "  <thead>\n",
       "    <tr style=\"text-align: right;\">\n",
       "      <th></th>\n",
       "      <th>MS_SubClass</th>\n",
       "      <th>MS_Zoning</th>\n",
       "      <th>Lot_Frontage</th>\n",
       "      <th>Lot_Area</th>\n",
       "      <th>Street</th>\n",
       "      <th>Alley</th>\n",
       "      <th>Lot_Shape</th>\n",
       "      <th>Land_Contour</th>\n",
       "      <th>Utilities</th>\n",
       "      <th>Lot_Config</th>\n",
       "      <th>...</th>\n",
       "      <th>Fence</th>\n",
       "      <th>Misc_Feature</th>\n",
       "      <th>Misc_Val</th>\n",
       "      <th>Mo_Sold</th>\n",
       "      <th>Year_Sold</th>\n",
       "      <th>Sale_Type</th>\n",
       "      <th>Sale_Condition</th>\n",
       "      <th>Sale_Price</th>\n",
       "      <th>Longitude</th>\n",
       "      <th>Latitude</th>\n",
       "    </tr>\n",
       "  </thead>\n",
       "  <tbody>\n",
       "    <tr>\n",
       "      <th>0</th>\n",
       "      <td>One_Story_1946_and_Newer_All_Styles</td>\n",
       "      <td>Residential_Low_Density</td>\n",
       "      <td>141</td>\n",
       "      <td>31770</td>\n",
       "      <td>Pave</td>\n",
       "      <td>No_Alley_Access</td>\n",
       "      <td>Slightly_Irregular</td>\n",
       "      <td>Lvl</td>\n",
       "      <td>AllPub</td>\n",
       "      <td>Corner</td>\n",
       "      <td>...</td>\n",
       "      <td>No_Fence</td>\n",
       "      <td>None</td>\n",
       "      <td>0</td>\n",
       "      <td>5</td>\n",
       "      <td>2010</td>\n",
       "      <td>WD</td>\n",
       "      <td>Normal</td>\n",
       "      <td>215000</td>\n",
       "      <td>-93.619754</td>\n",
       "      <td>42.054035</td>\n",
       "    </tr>\n",
       "    <tr>\n",
       "      <th>1</th>\n",
       "      <td>One_Story_1946_and_Newer_All_Styles</td>\n",
       "      <td>Residential_High_Density</td>\n",
       "      <td>80</td>\n",
       "      <td>11622</td>\n",
       "      <td>Pave</td>\n",
       "      <td>No_Alley_Access</td>\n",
       "      <td>Regular</td>\n",
       "      <td>Lvl</td>\n",
       "      <td>AllPub</td>\n",
       "      <td>Inside</td>\n",
       "      <td>...</td>\n",
       "      <td>Minimum_Privacy</td>\n",
       "      <td>None</td>\n",
       "      <td>0</td>\n",
       "      <td>6</td>\n",
       "      <td>2010</td>\n",
       "      <td>WD</td>\n",
       "      <td>Normal</td>\n",
       "      <td>105000</td>\n",
       "      <td>-93.619756</td>\n",
       "      <td>42.053014</td>\n",
       "    </tr>\n",
       "    <tr>\n",
       "      <th>2</th>\n",
       "      <td>One_Story_1946_and_Newer_All_Styles</td>\n",
       "      <td>Residential_Low_Density</td>\n",
       "      <td>81</td>\n",
       "      <td>14267</td>\n",
       "      <td>Pave</td>\n",
       "      <td>No_Alley_Access</td>\n",
       "      <td>Slightly_Irregular</td>\n",
       "      <td>Lvl</td>\n",
       "      <td>AllPub</td>\n",
       "      <td>Corner</td>\n",
       "      <td>...</td>\n",
       "      <td>No_Fence</td>\n",
       "      <td>Gar2</td>\n",
       "      <td>12500</td>\n",
       "      <td>6</td>\n",
       "      <td>2010</td>\n",
       "      <td>WD</td>\n",
       "      <td>Normal</td>\n",
       "      <td>172000</td>\n",
       "      <td>-93.619387</td>\n",
       "      <td>42.052659</td>\n",
       "    </tr>\n",
       "    <tr>\n",
       "      <th>3</th>\n",
       "      <td>One_Story_1946_and_Newer_All_Styles</td>\n",
       "      <td>Residential_Low_Density</td>\n",
       "      <td>93</td>\n",
       "      <td>11160</td>\n",
       "      <td>Pave</td>\n",
       "      <td>No_Alley_Access</td>\n",
       "      <td>Regular</td>\n",
       "      <td>Lvl</td>\n",
       "      <td>AllPub</td>\n",
       "      <td>Corner</td>\n",
       "      <td>...</td>\n",
       "      <td>No_Fence</td>\n",
       "      <td>None</td>\n",
       "      <td>0</td>\n",
       "      <td>4</td>\n",
       "      <td>2010</td>\n",
       "      <td>WD</td>\n",
       "      <td>Normal</td>\n",
       "      <td>244000</td>\n",
       "      <td>-93.617320</td>\n",
       "      <td>42.051245</td>\n",
       "    </tr>\n",
       "    <tr>\n",
       "      <th>4</th>\n",
       "      <td>Two_Story_1946_and_Newer</td>\n",
       "      <td>Residential_Low_Density</td>\n",
       "      <td>74</td>\n",
       "      <td>13830</td>\n",
       "      <td>Pave</td>\n",
       "      <td>No_Alley_Access</td>\n",
       "      <td>Slightly_Irregular</td>\n",
       "      <td>Lvl</td>\n",
       "      <td>AllPub</td>\n",
       "      <td>Inside</td>\n",
       "      <td>...</td>\n",
       "      <td>Minimum_Privacy</td>\n",
       "      <td>None</td>\n",
       "      <td>0</td>\n",
       "      <td>3</td>\n",
       "      <td>2010</td>\n",
       "      <td>WD</td>\n",
       "      <td>Normal</td>\n",
       "      <td>189900</td>\n",
       "      <td>-93.638933</td>\n",
       "      <td>42.060899</td>\n",
       "    </tr>\n",
       "  </tbody>\n",
       "</table>\n",
       "<p>5 rows × 81 columns</p>\n",
       "</div>"
      ],
      "text/plain": [
       "                           MS_SubClass                 MS_Zoning  \\\n",
       "0  One_Story_1946_and_Newer_All_Styles   Residential_Low_Density   \n",
       "1  One_Story_1946_and_Newer_All_Styles  Residential_High_Density   \n",
       "2  One_Story_1946_and_Newer_All_Styles   Residential_Low_Density   \n",
       "3  One_Story_1946_and_Newer_All_Styles   Residential_Low_Density   \n",
       "4             Two_Story_1946_and_Newer   Residential_Low_Density   \n",
       "\n",
       "   Lot_Frontage  Lot_Area Street            Alley           Lot_Shape  \\\n",
       "0           141     31770   Pave  No_Alley_Access  Slightly_Irregular   \n",
       "1            80     11622   Pave  No_Alley_Access             Regular   \n",
       "2            81     14267   Pave  No_Alley_Access  Slightly_Irregular   \n",
       "3            93     11160   Pave  No_Alley_Access             Regular   \n",
       "4            74     13830   Pave  No_Alley_Access  Slightly_Irregular   \n",
       "\n",
       "  Land_Contour Utilities Lot_Config  ...            Fence Misc_Feature  \\\n",
       "0          Lvl    AllPub     Corner  ...         No_Fence         None   \n",
       "1          Lvl    AllPub     Inside  ...  Minimum_Privacy         None   \n",
       "2          Lvl    AllPub     Corner  ...         No_Fence         Gar2   \n",
       "3          Lvl    AllPub     Corner  ...         No_Fence         None   \n",
       "4          Lvl    AllPub     Inside  ...  Minimum_Privacy         None   \n",
       "\n",
       "  Misc_Val Mo_Sold Year_Sold Sale_Type Sale_Condition Sale_Price  Longitude  \\\n",
       "0        0       5      2010       WD          Normal     215000 -93.619754   \n",
       "1        0       6      2010       WD          Normal     105000 -93.619756   \n",
       "2    12500       6      2010       WD          Normal     172000 -93.619387   \n",
       "3        0       4      2010       WD          Normal     244000 -93.617320   \n",
       "4        0       3      2010       WD          Normal     189900 -93.638933   \n",
       "\n",
       "    Latitude  \n",
       "0  42.054035  \n",
       "1  42.053014  \n",
       "2  42.052659  \n",
       "3  42.051245  \n",
       "4  42.060899  \n",
       "\n",
       "[5 rows x 81 columns]"
      ]
     },
     "execution_count": 5,
     "metadata": {},
     "output_type": "execute_result"
    }
   ],
   "source": [
    "df.head()"
   ]
  },
  {
   "cell_type": "markdown",
   "metadata": {},
   "source": [
    "# Ejercicio 2: Importación de archivos serializados\n",
    "\n",
    "● Importe su modelo entrenado y sus conjuntos de entrenamiento y validación\n",
    "serializados la sesión pasada y evalúe el desempeño del modelo de su compañero con\n",
    "el suyo ¿Cuál es mejor? Si no puede ejecutar el modelo, comente cuáles pueden ser los\n",
    "causantes.\n",
    "\n",
    "● No es necesario que realice diagnósticos gráficos sobre el modelo, sólo reporte sus\n",
    "métricas.\n",
    "\n",
    "● Para importar un archivo serializado, puede ocupar la siguiente línea de código:"
   ]
  },
  {
   "cell_type": "markdown",
   "metadata": {},
   "source": [
    "`import pickle`\n",
    "`read_model = pickle.load(open(\"ignacio-soto-act07.sav\",\"rb\"))`"
   ]
  },
  {
   "cell_type": "code",
   "execution_count": 6,
   "metadata": {},
   "outputs": [],
   "source": [
    "import pickle"
   ]
  },
  {
   "cell_type": "code",
   "execution_count": 7,
   "metadata": {},
   "outputs": [],
   "source": [
    "read_model = pickle.load(open(\"cn_dec_tree_best.sav\",\"rb\"))\n",
    "read_Xtrain = pickle.load(open(\"cn_X_train.sav\",\"rb\"))\n",
    "read_Xtest = pickle.load(open(\"cn_X_test.sav\",\"rb\"))\n",
    "read_ytrain = pickle.load(open(\"cn_y_train.sav\",\"rb\"))\n",
    "read_ytest = pickle.load(open(\"cn_y_test.sav\",\"rb\"))"
   ]
  },
  {
   "cell_type": "code",
   "execution_count": 8,
   "metadata": {},
   "outputs": [
    {
     "name": "stdout",
     "output_type": "stream",
     "text": [
      "Test MSE: 1423793003.072\n",
      "Test MAE: 16126.47059\n",
      "Test R2: 0.77749\n"
     ]
    }
   ],
   "source": [
    "print(\"Test MSE:\", mean_squared_error(read_ytest, read_model.predict(read_Xtest)).round(5))\n",
    "print(\"Test MAE:\", median_absolute_error(read_ytest, read_model.predict(read_Xtest)).round(5))\n",
    "print(\"Test R2:\", r2_score(read_ytest, read_model.predict(read_Xtest)).round(5))"
   ]
  },
  {
   "cell_type": "markdown",
   "metadata": {},
   "source": [
    "El desempeño del modelo de mi compañero es mejor, esto puede deberse a una diferencia en la seleccion de hiperparametros y a la diferencia del muestreo aleatorio por las semillas seudoaleatorias. "
   ]
  },
  {
   "cell_type": "markdown",
   "metadata": {},
   "source": [
    "# Ejercicio 3: Evaluación Random Forest\n",
    "\n",
    "● En base a los conjuntos de entrenamiento serializados, genere un modelo utilizando\n",
    "sklearn.ensemble.RandomForest sin modificar hiper parámetros, sólo declarando la\n",
    "semilla pseudoaleatoria.\n",
    "\n",
    "● Reporte su desempeño y compárelo con su modelo de la sesión pasada, así como con\n",
    "el de su compañero."
   ]
  },
  {
   "cell_type": "code",
   "execution_count": 9,
   "metadata": {},
   "outputs": [],
   "source": [
    "regr = RandomForestRegressor(random_state=4982)"
   ]
  },
  {
   "cell_type": "code",
   "execution_count": 10,
   "metadata": {},
   "outputs": [
    {
     "data": {
      "text/plain": [
       "RandomForestRegressor(random_state=4982)"
      ]
     },
     "execution_count": 10,
     "metadata": {},
     "output_type": "execute_result"
    }
   ],
   "source": [
    "regr.fit(read_Xtrain, read_ytrain)"
   ]
  },
  {
   "cell_type": "code",
   "execution_count": 11,
   "metadata": {},
   "outputs": [
    {
     "name": "stdout",
     "output_type": "stream",
     "text": [
      "Test MSE: 878752533.43348\n",
      "Test MAE: 12418.99\n",
      "Test R2: 0.86267\n"
     ]
    }
   ],
   "source": [
    "print(\"Test MSE:\", mean_squared_error(read_ytest, regr.predict(read_Xtest)).round(5))\n",
    "print(\"Test MAE:\", median_absolute_error(read_ytest, regr.predict(read_Xtest)).round(5))\n",
    "print(\"Test R2:\", r2_score(read_ytest, regr.predict(read_Xtest)).round(5))"
   ]
  },
  {
   "cell_type": "markdown",
   "metadata": {},
   "source": [
    "Los resultados del modelo de Regresion con Random Forest son sustancialmente superiores a los del modelo de Regresion con arboles de decisión. El modelo de mi compañero tambien mejoro su desempeño"
   ]
  },
  {
   "cell_type": "markdown",
   "metadata": {},
   "source": [
    "# Ejercicio 4: Reporte las métricas de desempeño\n",
    "\n",
    "● Para afinar el comportamiento de nuestro modelo, evalúe su desempeño los siguientes\n",
    "hiper parámetros:\n",
    "\n",
    "○ max_features: None, log2, sqrt.\n",
    "\n",
    "○ n_estimators: Evaluar entre 20 y 1000 en pasos de 50.\n",
    "\n",
    "● Guarde la tasa de error en la exactitud medida con OOB.\n",
    "\n",
    "● Grafique el comportamiento."
   ]
  },
  {
   "cell_type": "code",
   "execution_count": 12,
   "metadata": {},
   "outputs": [
    {
     "name": "stderr",
     "output_type": "stream",
     "text": [
      "C:\\Users\\cris\\anaconda3\\lib\\site-packages\\sklearn\\ensemble\\_forest.py:833: UserWarning: Some inputs do not have OOB scores. This probably means too few trees were used to compute any reliable oob estimates.\n",
      "  warn(\"Some inputs do not have OOB scores. \"\n",
      "C:\\Users\\cris\\anaconda3\\lib\\site-packages\\sklearn\\ensemble\\_forest.py:833: UserWarning: Some inputs do not have OOB scores. This probably means too few trees were used to compute any reliable oob estimates.\n",
      "  warn(\"Some inputs do not have OOB scores. \"\n",
      "C:\\Users\\cris\\anaconda3\\lib\\site-packages\\sklearn\\ensemble\\_forest.py:833: UserWarning: Some inputs do not have OOB scores. This probably means too few trees were used to compute any reliable oob estimates.\n",
      "  warn(\"Some inputs do not have OOB scores. \"\n"
     ]
    }
   ],
   "source": [
    "# generamos una serie de listas para guardar los valores\n",
    "tmp_oob_none, tmp_oob_sqrt,tmp_oob_log2 = [], [], []\n",
    "tmp_test_acc_none, tmp_test_acc_sqrt, tmp_test_acc_log = [], [], []\n",
    "n_estimators = range(20, 1000, 50)\n",
    "# para cada rango de modelos estimados\n",
    "for i in n_estimators:\n",
    "# Implementamos una variante con todos los atributos\n",
    "    voting_rf_none = RandomForestRegressor(n_estimators= i,max_features=None, oob_score=True, random_state=4982).fit(read_Xtrain, read_ytrain)\n",
    "# Implementamos una variante donde los atributos se escogen con sqrt\n",
    "    voting_rf_sqrt = RandomForestRegressor(n_estimators= i,max_features=\"sqrt\",warm_start=True,oob_score=True,random_state=4982).fit(read_Xtrain, read_ytrain)\n",
    "# Implementamos una variante donde los atributos se escogen con log\n",
    "    voting_rf_log = RandomForestRegressor(n_estimators= i,max_features=\"log2\",warm_start=True,oob_score=True,random_state=4982).fit(read_Xtrain, read_ytrain)\n",
    "\n",
    "# Estimamos el error en OOB\n",
    "    tmp_oob_none.append(1 - voting_rf_none.oob_score_)\n",
    "    tmp_oob_sqrt.append(1 - voting_rf_sqrt.oob_score_)\n",
    "    tmp_oob_log2.append(1 - voting_rf_log.oob_score_)"
   ]
  },
  {
   "cell_type": "code",
   "execution_count": 13,
   "metadata": {},
   "outputs": [
    {
     "data": {
      "text/plain": [
       "<matplotlib.legend.Legend at 0x15d6965b8e0>"
      ]
     },
     "execution_count": 13,
     "metadata": {},
     "output_type": "execute_result"
    },
    {
     "data": {
      "text/plain": [
       "<Figure size 864x288 with 0 Axes>"
      ]
     },
     "metadata": {},
     "output_type": "display_data"
    },
    {
     "data": {
      "image/png": "[encoded data removed]",
      "text/plain": [
       "<Figure size 720x432 with 3 Axes>"
      ]
     },
     "metadata": {
      "needs_background": "light"
     },
     "output_type": "display_data"
    }
   ],
   "source": [
    "#Se grafica el comportamiento de los errores OOB con los tres hiperparametros y n_estimators de acuerdo a lo indicado\n",
    "plt.figure(figsize=(12, 4));\n",
    "fig, axs = plt.subplots(1, 3, sharex=True, sharey=True);\n",
    "axs[0].plot(tmp_oob_log2, '.-', label='OOB error rate');\n",
    "axs[0].set_title('Log2');\n",
    "axs[1].plot(tmp_oob_sqrt,'.-', label='OOB error rate');\n",
    "axs[1].set_title('Squared Root');\n",
    "axs[2].plot(tmp_oob_none, '.-', label='OOB error rate');\n",
    "axs[2].set_title('None');\n",
    "plt.tight_layout();\n",
    "plt.legend()"
   ]
  },
  {
   "cell_type": "markdown",
   "metadata": {},
   "source": [
    "Los hiperparametros Log2 y sqrt obtienen una menor tasa de error en la exactitud medida en OOB. Se puede observar tanto en la grafica de Log2 y Squared Root, que hacia el final de la curva se podría obtener la mejor combinación de hiperparametros considerando la lógica de que a mayor numero de árboles, mejor desempeño se obtendra(aunque esto pueda caer en overfitting).\n",
    "\n",
    "Para corroborar lo deducido de las graficas generare un Gridsearch."
   ]
  },
  {
   "cell_type": "markdown",
   "metadata": {},
   "source": [
    "# Ejercicio 5: Refactoriza el modelo\n",
    "\n",
    "● En base a la mejor combinación de hiper parámetros, reentrene el modelo y comente su\n",
    "desempeño."
   ]
  },
  {
   "cell_type": "code",
   "execution_count": 14,
   "metadata": {},
   "outputs": [
    {
     "name": "stdout",
     "output_type": "stream",
     "text": [
      "Wall time: 0 ns\n"
     ]
    }
   ],
   "source": [
    "g_cv = GridSearchCV(RandomForestRegressor(random_state=4982),\n",
    "              param_grid={'n_estimators' : range(20, 1000, 50),\n",
    "                          'max_features':[None,'sqrt', 'log2']},\n",
    "                          cv=5)"
   ]
  },
  {
   "cell_type": "code",
   "execution_count": 15,
   "metadata": {},
   "outputs": [
    {
     "name": "stdout",
     "output_type": "stream",
     "text": [
      "Wall time: 0 ns\n"
     ]
    },
    {
     "data": {
      "text/plain": [
       "GridSearchCV(cv=5, estimator=RandomForestRegressor(random_state=4982),\n",
       "             param_grid={'max_features': [None, 'sqrt', 'log2'],\n",
       "                         'n_estimators': range(20, 1000, 50)})"
      ]
     },
     "execution_count": 15,
     "metadata": {},
     "output_type": "execute_result"
    }
   ],
   "source": [
    "%time\n",
    "g_cv.fit(read_Xtrain, read_ytrain)"
   ]
  },
  {
   "cell_type": "code",
   "execution_count": 16,
   "metadata": {},
   "outputs": [
    {
     "data": {
      "text/plain": [
       "{'max_features': 'sqrt', 'n_estimators': 970}"
      ]
     },
     "execution_count": 16,
     "metadata": {},
     "output_type": "execute_result"
    }
   ],
   "source": [
    "g_cv.best_params_"
   ]
  },
  {
   "cell_type": "markdown",
   "metadata": {},
   "source": [
    "Se corrobora lo deducido en las graficas. La mejor combinacion de hiperparametros se alcanza con max_features: sqrt y n_stimators: 970"
   ]
  },
  {
   "cell_type": "code",
   "execution_count": 14,
   "metadata": {},
   "outputs": [],
   "source": [
    "model_forest = RandomForestRegressor(random_state=4982, max_features= 'sqrt', n_estimators =970).fit(read_Xtrain, read_ytrain)"
   ]
  },
  {
   "cell_type": "code",
   "execution_count": 15,
   "metadata": {},
   "outputs": [
    {
     "name": "stdout",
     "output_type": "stream",
     "text": [
      "Test MSE: 899353983.18232\n",
      "Test MAE: 12198.03814\n",
      "Test R2: 0.85945\n"
     ]
    }
   ],
   "source": [
    "print(\"Test MSE:\", mean_squared_error(read_ytest, model_forest.predict(read_Xtest)).round(5))\n",
    "print(\"Test MAE:\", median_absolute_error(read_ytest, model_forest.predict(read_Xtest)).round(5))\n",
    "print(\"Test R2:\", r2_score(read_ytest, model_forest.predict(read_Xtest)).round(5))"
   ]
  },
  {
   "cell_type": "markdown",
   "metadata": {},
   "source": [
    "# Se obtiene un desempeño similar con la mejor combinacion de hiperparametros. En tanto, que su pequeña reduccion en el desempeño pueda ser compensada por una significativa reduccion del MAE. En cualquier caso, el desempeño del modelo es bastante aceptable en terminos generales.  "
   ]
  },
  {
   "cell_type": "markdown",
   "metadata": {},
   "source": []
  },
  {
   "cell_type": "markdown",
   "metadata": {},
   "source": []
  },
  {
   "cell_type": "markdown",
   "metadata": {},
   "source": [
    "# Carga datos Alejandro Chau"
   ]
  },
  {
   "cell_type": "code",
   "execution_count": 19,
   "metadata": {},
   "outputs": [],
   "source": [
    "import pickle"
   ]
  },
  {
   "cell_type": "code",
   "execution_count": 20,
   "metadata": {},
   "outputs": [],
   "source": [
    "pickle.dump(model_forest, open('model_forest.sav','wb'))"
   ]
  },
  {
   "cell_type": "code",
   "execution_count": 21,
   "metadata": {},
   "outputs": [
    {
     "name": "stderr",
     "output_type": "stream",
     "text": [
      "C:\\Users\\cris\\anaconda3\\lib\\site-packages\\sklearn\\base.py:310: UserWarning: Trying to unpickle estimator DecisionTreeRegressor from version 0.24.2 when using version 0.24.1. This might lead to breaking code or invalid results. Use at your own risk.\n",
      "  warnings.warn(\n"
     ]
    }
   ],
   "source": [
    "read_model = pickle.load(open(\"alejandro-chau-arbol-regresion.sav\",\"rb\"))\n",
    "read_Xtrain = pickle.load(open(\"alejandro-chau-arbol-regresion-xtest.sav\",\"rb\"))\n",
    "read_Xtest = pickle.load(open(\"alejandro-chau-arbol-regresion-xtrain.sav\",\"rb\"))\n",
    "read_ytrain = pickle.load(open(\"alejandro-chau-arbol-regresion-ytest.sav\",\"rb\"))\n",
    "read_ytest = pickle.load(open(\"alejandro-chau-arbol-regresion-ytrain.sav\",\"rb\"))"
   ]
  },
  {
   "cell_type": "code",
   "execution_count": 28,
   "metadata": {},
   "outputs": [
    {
     "name": "stdout",
     "output_type": "stream",
     "text": [
      "Test MSE: 1059486859.48378\n",
      "Test MAE: 15465.24731\n",
      "Test R2: 0.84022\n"
     ]
    }
   ],
   "source": [
    "print(\"Test MSE:\", mean_squared_error(read_ytest, read_model.predict(read_Xtest)).round(5))\n",
    "print(\"Test MAE:\", median_absolute_error(read_ytest, read_model.predict(read_Xtest)).round(5))\n",
    "print(\"Test R2:\", r2_score(read_ytest, read_model.predict(read_Xtest)).round(5))"
   ]
  }
 ],
 "metadata": {
  "kernelspec": {
   "display_name": "Python 3",
   "language": "python",
   "name": "python3"
  },
  "language_info": {
   "codemirror_mode": {
    "name": "ipython",
    "version": 3
   },
   "file_extension": ".py",
   "mimetype": "text/x-python",
   "name": "python",
   "nbconvert_exporter": "python",
   "pygments_lexer": "ipython3",
   "version": "3.8.8"
  }
 },
 "nbformat": 4,
 "nbformat_minor": 4
}
